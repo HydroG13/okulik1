{
 "cells": [
  {
   "cell_type": "markdown",
   "source": [
    "Распаковка\n",
    "Используется для того, чтобы распределить элементы коллекции (список, словарь, множество, кортеж) по отдельным переменным.\n",
    "Используется только в ситуациях, когда вы наверняка знаете количество элементов, содержащихся в коллекции."
   ],
   "metadata": {
    "collapsed": false
   },
   "id": "a0366b0adb97d05b"
  },
  {
   "cell_type": "code",
   "execution_count": 3,
   "outputs": [
    {
     "name": "stdout",
     "output_type": "stream",
     "text": [
      "1 3 1 2 4\n"
     ]
    }
   ],
   "source": [
    "my_list =[1, 3]\n",
    "my_tuple = (1, 2, 4)\n",
    "# a = my_list[0]\n",
    "# b = my_list[1]\n",
    "a, b = my_list\n",
    "c, d, e = my_tuple\n",
    "# c = my_tuple[0]\n",
    "# d = my_tuple[1]\n",
    "# e = my_tuple[2]\n",
    "print(a, b, c, d, e)"
   ],
   "metadata": {
    "collapsed": false,
    "ExecuteTime": {
     "end_time": "2025-01-16T15:40:03.406507Z",
     "start_time": "2025-01-16T15:40:03.400288Z"
    }
   },
   "id": "ebf7d2ad62ea46af"
  },
  {
   "cell_type": "markdown",
   "source": [
    "Срез\n",
    "Извлечение среза позволяет взять из списка определенную его часть"
   ],
   "metadata": {
    "collapsed": false
   },
   "id": "70ad1ecfc7add68a"
  },
  {
   "cell_type": "code",
   "execution_count": 14,
   "id": "initial_id",
   "metadata": {
    "collapsed": true,
    "ExecuteTime": {
     "end_time": "2025-01-16T15:47:39.365531Z",
     "start_time": "2025-01-16T15:47:39.358541Z"
    }
   },
   "outputs": [
    {
     "name": "stdout",
     "output_type": "stream",
     "text": [
      "[1, 3, 5, 2, 5, 7, 1, 3]\n",
      "[1, 3, 5, 2]\n",
      "[1, 3, 5, 2]\n",
      "[2, 5, 7, 1, 3]\n",
      "[3, 2, 7, 3]\n",
      "[1, 3, 5, 2, 5, 7, 1, 3]\n",
      "[3, 1, 7, 5, 2, 5, 3, 1]\n",
      "[3, 7, 2, 3]\n",
      "[1, 7, 5, 2]\n"
     ]
    }
   ],
   "source": [
    "lll = [1, 3, 5, 2, 5, 7 ,1, 3]\n",
    "print(lll)\n",
    "print(lll[0: 4])\n",
    "print(lll[:4]) #от начала до определенного\n",
    "print(lll[3:]) #от когото до конца\n",
    "print(lll[1::2]) #шаг\n",
    "print(lll[:]) #печатает все\n",
    "print(lll[:: -1]) #печатает все с конца\n",
    "print(lll[:: -2]) #печатает все с конца но с шагом\n",
    "print(lll[-2: -6: -1]) #печатает определенные с конца но с шагом\n"
   ]
  },
  {
   "cell_type": "markdown",
   "source": [
    "Методы строк\n",
    "Со строкой можно делать многое из того, что можно делать с другими коллекциями, т.к. строка это по сути тоже коллекция - последовательность символов. Больше всего функциональность строки похожа на функциональность кортежей."
   ],
   "metadata": {
    "collapsed": false
   },
   "id": "d5f37834f6a426df"
  },
  {
   "cell_type": "code",
   "execution_count": 20,
   "outputs": [
    {
     "name": "stdout",
     "output_type": "stream",
     "text": [
      "l\n",
      "19\n",
      "3\n",
      "3\n",
      "True\n",
      "3\n",
      "2\n",
      "-1\n",
      "my long\n",
      "True\n",
      "True\n"
     ]
    }
   ],
   "source": [
    "text = 'my long long string'\n",
    "print(text[3])\n",
    "print(len(text))\n",
    "print(text.index('l'))\n",
    "print(text.index('long'))\n",
    "print('long' in text)\n",
    "print(text.count('n'))\n",
    "print(text.count('long'))\n",
    "print(text.find('lone'))\n",
    "print(text[:7])\n",
    "print(text.startswith('my'))\n",
    "print(text.endswith('string'))"
   ],
   "metadata": {
    "collapsed": false,
    "ExecuteTime": {
     "end_time": "2025-01-16T16:02:11.166771Z",
     "start_time": "2025-01-16T16:02:11.158805Z"
    }
   },
   "id": "4ed614aefb96d6b2"
  },
  {
   "cell_type": "code",
   "execution_count": 21,
   "outputs": [
    {
     "name": "stdout",
     "output_type": "stream",
     "text": [
      "This text with messed up capitalization!\n",
      "This Text With Messed Up Capitalization!\n",
      "THIS TEXT WITH MESSED UP CAPITALIZATION!\n",
      "this text with messed up capitalization!\n"
     ]
    }
   ],
   "source": [
    "txt = \"ThIs tExt wiTh meSsEd uP CaPITalIZatiOn!\"\n",
    "print(txt.capitalize()) # Делает первую букву предложения заглавной\n",
    "print(txt.title())  # Делает каждую первую букву заглавной\n",
    "print(txt.upper())  # Делает все буквы большими\n",
    "print(txt.lower())  # Делает все буквы маленькими"
   ],
   "metadata": {
    "collapsed": false,
    "ExecuteTime": {
     "end_time": "2025-01-16T16:06:53.933573Z",
     "start_time": "2025-01-16T16:06:53.923070Z"
    }
   },
   "id": "216bea6177daa20d"
  },
  {
   "cell_type": "code",
   "execution_count": 22,
   "outputs": [
    {
     "name": "stdout",
     "output_type": "stream",
     "text": [
      "my long long STRING\n"
     ]
    }
   ],
   "source": [
    "text = 'mY lOng loNg STRING'\n",
    "string_index = text.lower().index('string')\n",
    "print(text[:string_index].lower() + text[string_index:].upper())"
   ],
   "metadata": {
    "collapsed": false,
    "ExecuteTime": {
     "end_time": "2025-01-16T16:09:47.595014Z",
     "start_time": "2025-01-16T16:09:47.577035Z"
    }
   },
   "id": "d0d6bae9a101e201"
  },
  {
   "cell_type": "code",
   "execution_count": 23,
   "outputs": [
    {
     "name": "stdout",
     "output_type": "stream",
     "text": [
      "Hello universe!\n"
     ]
    }
   ],
   "source": [
    "msg = 'Hello world!'\n",
    "msg = msg.replace('world', 'universe')\n",
    "print(msg)"
   ],
   "metadata": {
    "collapsed": false,
    "ExecuteTime": {
     "end_time": "2025-01-16T16:11:53.402487Z",
     "start_time": "2025-01-16T16:11:53.386922Z"
    }
   },
   "id": "f87d4c08495645d"
  },
  {
   "cell_type": "code",
   "execution_count": 24,
   "outputs": [
    {
     "name": "stdout",
     "output_type": "stream",
     "text": [
      "12.3\n"
     ]
    }
   ],
   "source": [
    "data = '12,3'\n",
    "data = data.replace(',', '.')\n",
    "print(data)"
   ],
   "metadata": {
    "collapsed": false,
    "ExecuteTime": {
     "end_time": "2025-01-16T16:15:57.894559Z",
     "start_time": "2025-01-16T16:15:57.869174Z"
    }
   },
   "id": "d141c7b17a145826"
  },
  {
   "cell_type": "code",
   "execution_count": null,
   "outputs": [],
   "source": [
    "txt = ' admin '\n",
    "# txt = txt.replace(' ', '')\n",
    "# txt = txt.strip()\n",
    "# txt = txt.lstrip()\n",
    "txt = txt.rstrip()\n",
    "print(txt)\n",
    "text = '\"name\"'\n",
    "text = text.strip('\"')\n",
    "print(text)"
   ],
   "metadata": {
    "collapsed": false
   },
   "id": "ff9aa2ab6bd32940"
  },
  {
   "cell_type": "markdown",
   "source": [
    "Строка ←→ список"
   ],
   "metadata": {
    "collapsed": false
   },
   "id": "b9dd20cdc2526cb2"
  },
  {
   "cell_type": "code",
   "execution_count": 26,
   "outputs": [
    {
     "name": "stdout",
     "output_type": "stream",
     "text": [
      "['some', 'little', 'text']\n",
      "['some', 'little', 'text']\n"
     ]
    }
   ],
   "source": [
    "my_string = 'some little text'\n",
    "my_string2 = 'some,little,text'\n",
    "list_from_text = my_string.split()\n",
    "list_from_text2 = my_string2.split(',')\n",
    "print(list_from_text)\n",
    "print(list_from_text2)"
   ],
   "metadata": {
    "collapsed": false,
    "ExecuteTime": {
     "end_time": "2025-01-16T16:28:33.374147Z",
     "start_time": "2025-01-16T16:28:33.365197Z"
    }
   },
   "id": "95c991d1ba5847d9"
  },
  {
   "cell_type": "code",
   "execution_count": 27,
   "outputs": [
    {
     "name": "stdout",
     "output_type": "stream",
     "text": [
      "['Python', 'Java', 'Ruby']\n",
      "['Python', 'Java', 'Ruby']\n",
      "Student knows these languages: Python, Java, Ruby\n"
     ]
    }
   ],
   "source": [
    "languages = ['Python', 'Java', 'Ruby']\n",
    "print(languages)\n",
    "# languages = ', '.join(languages)\n",
    "print(languages)\n",
    "print('Student knows these languages:', ', '.join(languages))"
   ],
   "metadata": {
    "collapsed": false,
    "ExecuteTime": {
     "end_time": "2025-01-16T16:30:16.947648Z",
     "start_time": "2025-01-16T16:30:16.935054Z"
    }
   },
   "id": "6b5d0d1459295f2"
  },
  {
   "cell_type": "markdown",
   "source": [
    "Форматирование строки"
   ],
   "metadata": {
    "collapsed": false
   },
   "id": "4327860d045248b2"
  },
  {
   "cell_type": "code",
   "execution_count": 32,
   "outputs": [
    {
     "name": "stdout",
     "output_type": "stream",
     "text": [
      "First words is one Second word is two\n",
      "First word is one, second word is two\n",
      "First word is one, second word is two\n",
      "First word is one, second word is two\n",
      "First word is two, second word is one\n",
      "First word is one, second word is two\n"
     ]
    }
   ],
   "source": [
    "a = 'one'\n",
    "b = 'two'\n",
    "print('First words is', a, 'Second word is', b)\n",
    "\n",
    "my_text = 'First word is ' + a + ', second word is ' + b\n",
    "print(my_text)\n",
    "\n",
    "my_text = 'First word is %s, second word is %s'\n",
    "print(my_text % (a, b))\n",
    "\n",
    "#string format\n",
    "my_text = 'First word is {}, second word is {}'\n",
    "print(my_text.format(a, b))\n",
    "\n",
    "my_text = 'First word is {1}, second word is {0}'\n",
    "print(my_text.format(a, b))\n",
    "\n",
    "#f-string\n",
    "my_text = f'First word is {a}, second word is {b}'\n",
    "print(my_text)"
   ],
   "metadata": {
    "collapsed": false,
    "ExecuteTime": {
     "end_time": "2025-01-16T16:43:52.112325Z",
     "start_time": "2025-01-16T16:43:52.103758Z"
    }
   },
   "id": "ac1ff16051b8ab3b"
  },
  {
   "cell_type": "code",
   "execution_count": 33,
   "outputs": [
    {
     "name": "stdout",
     "output_type": "stream",
     "text": [
      "Hello, pav!\n"
     ]
    }
   ],
   "source": [
    "template = 'Hello, {0}!'\n",
    "# print(f'Hello, {username}!')\n",
    "username = input('What is your name?')\n",
    "\n",
    "print(template.format(username))"
   ],
   "metadata": {
    "collapsed": false,
    "ExecuteTime": {
     "end_time": "2025-01-16T16:43:59.573136Z",
     "start_time": "2025-01-16T16:43:56.483997Z"
    }
   },
   "id": "5d9d7624ca1705fc"
  },
  {
   "cell_type": "code",
   "execution_count": null,
   "outputs": [],
   "source": [],
   "metadata": {
    "collapsed": false
   },
   "id": "474ac3aa12549dfa"
  }
 ],
 "metadata": {
  "kernelspec": {
   "display_name": "Python 3",
   "language": "python",
   "name": "python3"
  },
  "language_info": {
   "codemirror_mode": {
    "name": "ipython",
    "version": 2
   },
   "file_extension": ".py",
   "mimetype": "text/x-python",
   "name": "python",
   "nbconvert_exporter": "python",
   "pygments_lexer": "ipython2",
   "version": "2.7.6"
  }
 },
 "nbformat": 4,
 "nbformat_minor": 5
}
