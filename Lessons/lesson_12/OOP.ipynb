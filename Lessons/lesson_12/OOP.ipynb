{
 "cells": [
  {
   "cell_type": "markdown",
   "source": [
    "ООП(OOP) - Объектно ориентированное программирование\n",
    "Приципы ООП:\n",
    "\n",
    "Инкапсуляция (Encapsulation)\n",
    "Наследование (inheritance)\n",
    "Полиморфизм (Polymorphism)\n",
    "\n",
    "Инкапсуляция\n",
    "Все данные объекта должны хранится в объекте. Никто не может изменить данные объекта без его ведома.\n",
    "\n",
    "Наследование\n",
    "Объекты и их типы организуют иерархию типов. Дочерние типы наследуют свою функциональность от родительского класса, расширяя и дополняя её.\n",
    "\n",
    "Полиморфизм\n",
    "Способность классов менять своё поведение в зависимости от типов операций и операндов. Полиморфизм в программировании реализуется через перегрузку метода, либо через его переопределение."
   ],
   "metadata": {
    "collapsed": false
   },
   "id": "b57813d3ffa07c9e"
  },
  {
   "cell_type": "code",
   "execution_count": 10,
   "outputs": [],
   "source": [
    "from abc import abstractmethod\n",
    "\n",
    "\n",
    "class Group:\n",
    "    pupils = True\n",
    "    school_name = 42\n",
    "    director = 'Marivanna'\n",
    "\n",
    "    def __init__(self, title, pupils_count, group_leader):\n",
    "        self.title = title\n",
    "        self.pupils_count = pupils_count\n",
    "        self.group_leader = group_leader\n",
    "\n",
    "\n",
    "    def study(self):\n",
    "        print('sit down and read')\n",
    "\n",
    "    @abstractmethod\n",
    "    def move(self):\n",
    "        pass\n",
    "\n",
    "\n",
    "class PrimaryGroup(Group):\n",
    "    max_age = 11\n",
    "    min_age = 6\n",
    "    building_section = 'left'\n",
    "\n",
    "    def __init__(self, title, pupils_count, group_leader, class_room):\n",
    "        super().__init__(title, pupils_count, group_leader)\n",
    "        self.class_room = class_room\n",
    "\n",
    "    def move(self):\n",
    "        print('Run fast')\n",
    "\n",
    "\n",
    "class HighGroup(Group):\n",
    "    max_age = 18\n",
    "    min_age = 14\n",
    "\n",
    "    def move(self):\n",
    "        print('Go slowly')\n",
    "\n",
    "class MediumGroup(Group):\n",
    "    max_age = 15\n",
    "    min_age = 10"
   ],
   "metadata": {
    "collapsed": false,
    "ExecuteTime": {
     "end_time": "2025-01-27T14:30:50.095259Z",
     "start_time": "2025-01-27T14:30:50.074427Z"
    }
   },
   "id": "c22ccdeae5ca19a4"
  },
  {
   "cell_type": "code",
   "execution_count": 11,
   "id": "initial_id",
   "metadata": {
    "collapsed": true,
    "ExecuteTime": {
     "end_time": "2025-01-27T14:30:50.095937Z",
     "start_time": "2025-01-27T14:30:50.084828Z"
    }
   },
   "outputs": [
    {
     "name": "stdout",
     "output_type": "stream",
     "text": [
      "10000\n"
     ]
    }
   ],
   "source": [
    "first_a = PrimaryGroup('1A', 18, 'SD', 112)\n",
    "first_a.class_room = 10000\n",
    "print(first_a.class_room)"
   ]
  },
  {
   "cell_type": "code",
   "execution_count": 12,
   "outputs": [
    {
     "data": {
      "text/plain": "{'Country': 'Greece', 'avg_temp': 28}"
     },
     "execution_count": 12,
     "metadata": {},
     "output_type": "execute_result"
    }
   ],
   "source": [
    "# data1.txt\n",
    "{\"Country\": \"Turkey\", \"avg_temp\": 30}\n",
    "# data2.txt\n",
    "{\"Country\": \"Greece\", \"avg_temp\": 28}"
   ],
   "metadata": {
    "collapsed": false,
    "ExecuteTime": {
     "end_time": "2025-01-27T14:30:50.104551Z",
     "start_time": "2025-01-27T14:30:50.093862Z"
    }
   },
   "id": "4c053dd4afef2e05"
  },
  {
   "cell_type": "code",
   "execution_count": 13,
   "outputs": [
    {
     "name": "stdout",
     "output_type": "stream",
     "text": [
      "Turkey\n",
      "30\n",
      "Greece\n",
      "28\n"
     ]
    }
   ],
   "source": [
    "import json\n",
    "\n",
    "def read_file(file_name):\n",
    "    file_data = open(file_name, 'r')\n",
    "    # data = file_data.read()\n",
    "    data = json.load(file_data)\n",
    "    file_data.close()\n",
    "    return data\n",
    "\n",
    "data1 = read_file(\"data1.txt\")\n",
    "data2 = read_file(\"data2.txt\")\n",
    "\n",
    "print(data1['Country'])\n",
    "print(data1['avg_temp'])\n",
    "print(data2['Country'])\n",
    "print(data2['avg_temp'])"
   ],
   "metadata": {
    "collapsed": false,
    "ExecuteTime": {
     "end_time": "2025-01-27T14:30:50.111647Z",
     "start_time": "2025-01-27T14:30:50.102280Z"
    }
   },
   "id": "53acbf9ad2a4e0bc"
  },
  {
   "cell_type": "code",
   "execution_count": 14,
   "outputs": [],
   "source": [
    "import json\n",
    "class CountryData:\n",
    "    def __init__(self, file_name):\n",
    "        self.file_name = file_name\n",
    "        self.data = self.read_file()\n",
    "        self.country = self.data['Country']\n",
    "        self.avg_temp = self.data['avg_temp']\n",
    "        self.comfort = self.is_comfort()\n",
    "        \n",
    "        \n",
    "    def read_file(self):\n",
    "        file_data = open(self.file_name, 'r')\n",
    "        data = json.load(file_data)\n",
    "        file_data.close()\n",
    "        return data\n",
    "    \n",
    "    def is_comfort(self):\n",
    "        return self.avg_temp > 25"
   ],
   "metadata": {
    "collapsed": false,
    "ExecuteTime": {
     "end_time": "2025-01-27T14:30:50.149717Z",
     "start_time": "2025-01-27T14:30:50.117782Z"
    }
   },
   "id": "f125efaf5c7edcc7"
  },
  {
   "cell_type": "code",
   "execution_count": 15,
   "outputs": [
    {
     "name": "stdout",
     "output_type": "stream",
     "text": [
      "{'Country': 'Turkey', 'avg_temp': 30}\n",
      "Turkey\n",
      "30\n",
      "{'Country': 'Greece', 'avg_temp': 28}\n",
      "Greece\n",
      "28\n",
      "True\n",
      "True\n"
     ]
    }
   ],
   "source": [
    "data1 = CountryData('data1.txt')\n",
    "print(data1.data)\n",
    "print(data1.country)\n",
    "print(data1.avg_temp)\n",
    "data2 = CountryData('data2.txt')\n",
    "print(data2.data)\n",
    "print(data2.country)\n",
    "print(data2.avg_temp)\n",
    "print(data1.comfort)\n",
    "print(data2.comfort)"
   ],
   "metadata": {
    "collapsed": false,
    "ExecuteTime": {
     "end_time": "2025-01-27T14:30:50.157989Z",
     "start_time": "2025-01-27T14:30:50.124427Z"
    }
   },
   "id": "6f53adcbbd03e3a2"
  },
  {
   "cell_type": "code",
   "execution_count": 19,
   "outputs": [
    {
     "data": {
      "text/plain": "{'Country': 'Poland', 'avg_temp': 15, 'min_temp': 2}"
     },
     "execution_count": 19,
     "metadata": {},
     "output_type": "execute_result"
    }
   ],
   "source": [
    "#data3.txt\n",
    "{'Country': 'Poland', 'avg_temp': 15, 'min_temp': 2 }"
   ],
   "metadata": {
    "collapsed": false,
    "ExecuteTime": {
     "end_time": "2025-01-27T14:30:53.188625Z",
     "start_time": "2025-01-27T14:30:53.182813Z"
    }
   },
   "id": "748000d7ab5ef198"
  },
  {
   "cell_type": "code",
   "execution_count": 20,
   "outputs": [],
   "source": [
    "class CountryDataWithMinTemp(CountryData):\n",
    "    def __init__(self, file_name):\n",
    "        super().__init__(file_name)\n",
    "        self.min_temp = self.data['min_temp']"
   ],
   "metadata": {
    "collapsed": false,
    "ExecuteTime": {
     "end_time": "2025-01-27T14:30:59.088297Z",
     "start_time": "2025-01-27T14:30:59.080949Z"
    }
   },
   "id": "6a68a3f47066d4c5"
  },
  {
   "cell_type": "code",
   "execution_count": 21,
   "outputs": [
    {
     "name": "stdout",
     "output_type": "stream",
     "text": [
      "{'Country': 'Poland', 'avg_temp': 15, 'min_temp': 2}\n",
      "Poland\n",
      "15\n",
      "False\n",
      "2\n"
     ]
    }
   ],
   "source": [
    "data3 = CountryDataWithMinTemp('data3.txt')\n",
    "print(data3.data)\n",
    "print(data3.country)\n",
    "print(data3.avg_temp)\n",
    "print(data3.comfort)\n",
    "print(data3.min_temp)\n"
   ],
   "metadata": {
    "collapsed": false,
    "ExecuteTime": {
     "end_time": "2025-01-27T14:31:01.922381Z",
     "start_time": "2025-01-27T14:31:01.915694Z"
    }
   },
   "id": "366df5d244d3222f"
  },
  {
   "cell_type": "code",
   "execution_count": 25,
   "outputs": [],
   "source": [
    "import json\n",
    "\n",
    "\n",
    "class CountryData:\n",
    "    def __init__(self, filename):\n",
    "        self.__filename = filename\n",
    "        self.__data = self.__read_file()\n",
    "        self.__country = self.__data['Country']\n",
    "        self.__avg_temp = self.__data['avg_temp']\n",
    "        self._comfort = self.__is_comfort()\n",
    "\n",
    "\n",
    "    @property\n",
    "    def data(self):\n",
    "        return self.__data\n",
    "\n",
    "    @property\n",
    "    def country(self):\n",
    "        return self.__country\n",
    "\n",
    "    @property\n",
    "    def avg_temp(self):\n",
    "        return self.__avg_temp\n",
    "\n",
    "    @property\n",
    "    def comfort(self):\n",
    "        return self._comfort\n",
    "\n",
    "    @comfort.setter\n",
    "    def comfort(self, value):\n",
    "        self._comfort = value\n",
    "    def __read_file(self):\n",
    "        file_data = open(self.__filename, 'r')\n",
    "        data = json.load(file_data)\n",
    "        file_data.close()\n",
    "        return data\n",
    "\n",
    "    def __is_comfort(self):\n",
    "        return self.__avg_temp > 25\n",
    "    \n",
    "    def __str__(self):\n",
    "        return f'str File {self.__filename} with data {self.__data}'\n",
    "    \n",
    "    def __repr__(self):\n",
    "        return f'repr File {self.__filename} with data {self.__data}'\n",
    "    \n",
    "    def __lt__(self, obj):\n",
    "        return self.avg_temp < obj.avg_temp\n",
    "    \n",
    "    def __le__(self, obj):\n",
    "        return self.avg_temp <= obj.avg_temp\n",
    "    \n",
    "    def __add__(self, obj):\n",
    "        return [self, obj]\n",
    "\n"
   ],
   "metadata": {
    "collapsed": false,
    "ExecuteTime": {
     "end_time": "2025-01-27T15:01:25.693768Z",
     "start_time": "2025-01-27T15:01:25.690970Z"
    }
   },
   "id": "6db6a73f6da7e769"
  },
  {
   "cell_type": "code",
   "execution_count": 27,
   "outputs": [
    {
     "name": "stdout",
     "output_type": "stream",
     "text": [
      "False\n",
      "{'Country': 'Turkey', 'avg_temp': 30}\n",
      "{'Country': 'Turkey', 'avg_temp': 30}\n",
      "Turkey\n",
      "Greece\n",
      "30\n"
     ]
    }
   ],
   "source": [
    "data1 = CountryData('data1.txt')\n",
    "data1.comfort = False\n",
    "print(data1.comfort)\n",
    "# data1.data = 'skdfjhskdjf'\n",
    "print(data1.data)\n",
    "# data1.__data = {'1': 5}\n",
    "print(data1.data)\n",
    "print(data1.country)\n",
    "# print(data1.avg_temp)\n",
    "data2 = CountryData('data2.txt')\n",
    "print(data2.country)\n",
    "data1.__avg_temp = 2342342\n",
    "print(data1.avg_temp)"
   ],
   "metadata": {
    "collapsed": false,
    "ExecuteTime": {
     "end_time": "2025-01-27T15:02:22.310107Z",
     "start_time": "2025-01-27T15:02:22.284940Z"
    }
   },
   "id": "272de9d1495a3251"
  },
  {
   "cell_type": "code",
   "execution_count": 23,
   "outputs": [
    {
     "name": "stdout",
     "output_type": "stream",
     "text": [
      "False\n",
      "{'Country': 'Turkey', 'avg_temp': 30}\n",
      "{'Country': 'Turkey', 'avg_temp': 30}\n",
      "Turkey\n",
      "Greece\n",
      "30\n"
     ]
    }
   ],
   "source": [
    "data1 = CountryData('data1.txt')\n",
    "data1.comfort = False\n",
    "print(data1.comfort)\n",
    "# data1.data = 'skdfjhskdjf'\n",
    "print(data1.data)\n",
    "# data1.__data = {'1': 5}\n",
    "print(data1.data)\n",
    "print(data1.country)\n",
    "# print(data1.avg_temp)\n",
    "data2 = CountryData('data2.txt')\n",
    "print(data2.country)\n",
    "data1.__avg_temp = 2342342\n",
    "print(data1.avg_temp)"
   ],
   "metadata": {
    "collapsed": false,
    "ExecuteTime": {
     "end_time": "2025-01-27T14:59:33.383392Z",
     "start_time": "2025-01-27T14:59:33.368126Z"
    }
   },
   "id": "4252c419a511417"
  },
  {
   "cell_type": "code",
   "execution_count": 28,
   "outputs": [
    {
     "name": "stdout",
     "output_type": "stream",
     "text": [
      "str File data1.txt with data {'Country': 'Turkey', 'avg_temp': 30}\n"
     ]
    }
   ],
   "source": [
    "print(data1)"
   ],
   "metadata": {
    "collapsed": false,
    "ExecuteTime": {
     "end_time": "2025-01-27T15:02:26.382656Z",
     "start_time": "2025-01-27T15:02:26.373066Z"
    }
   },
   "id": "375bdedc1e0ae5ac"
  },
  {
   "cell_type": "code",
   "execution_count": null,
   "outputs": [],
   "source": [],
   "metadata": {
    "collapsed": false
   },
   "id": "8dee8aa28b8a7050"
  }
 ],
 "metadata": {
  "kernelspec": {
   "display_name": "Python 3",
   "language": "python",
   "name": "python3"
  },
  "language_info": {
   "codemirror_mode": {
    "name": "ipython",
    "version": 2
   },
   "file_extension": ".py",
   "mimetype": "text/x-python",
   "name": "python",
   "nbconvert_exporter": "python",
   "pygments_lexer": "ipython2",
   "version": "2.7.6"
  }
 },
 "nbformat": 4,
 "nbformat_minor": 5
}
