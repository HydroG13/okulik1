{
 "cells": [
  {
   "cell_type": "markdown",
   "source": [
    "while loop - цикл while"
   ],
   "metadata": {
    "collapsed": false
   },
   "id": "bd662ce0fc754b1d"
  },
  {
   "cell_type": "code",
   "execution_count": 3,
   "id": "initial_id",
   "metadata": {
    "collapsed": true,
    "ExecuteTime": {
     "end_time": "2025-01-20T15:30:53.906095Z",
     "start_time": "2025-01-20T15:30:53.898293Z"
    }
   },
   "outputs": [
    {
     "name": "stdout",
     "output_type": "stream",
     "text": [
      "hello\n",
      "hello\n",
      "hello\n",
      "hello\n",
      "hello\n",
      "the end\n"
     ]
    }
   ],
   "source": [
    "i = 0\n",
    "while i < 5:\n",
    "    print('hello')\n",
    "    i += 1\n",
    "print('the end')"
   ]
  },
  {
   "cell_type": "code",
   "execution_count": null,
   "outputs": [],
   "source": [
    "while True:\n",
    "    user_input = input('Enter something: ')\n",
    "    if user_input == 'exit':\n",
    "        break\n",
    "    elif user_input == 'skip':\n",
    "        print('skipping.....')\n",
    "        continue\n",
    "    elif len(user_input) > 10:\n",
    "        print('Your input is too long')\n",
    "    else:\n",
    "        print('input is ok')\n",
    "\n",
    "print('Good bye!')"
   ],
   "metadata": {
    "collapsed": false,
    "is_executing": true,
    "ExecuteTime": {
     "start_time": "2025-01-20T15:37:35.029735Z"
    }
   },
   "id": "5f4640b6e796d13e"
  },
  {
   "cell_type": "code",
   "execution_count": null,
   "outputs": [],
   "source": [
    "text = 'Sed vitae justo malesuada, commodo libero eu, bibendum mauris.'\n",
    "\n",
    "words = text.split()\n",
    "fin_words = []\n",
    "for word in words:\n",
    "    if word == 'end':\n",
    "        break\n",
    "    elif 'o' in word:\n",
    "        print(word)\n",
    "        continue\n",
    "    fin_words.append(word)\n",
    "\n",
    "print(' '.join(fin_words))"
   ],
   "metadata": {
    "collapsed": false
   },
   "id": "4fdec7eca18fba00"
  },
  {
   "cell_type": "markdown",
   "source": [
    "Functions\n",
    "Это самые основные программные структуры в языке Python, позволяющие многократное использование программного кода и уменьшающие его избыточность. Так же позволяют разбить сложную систему на достаточно простые и легко управляемые части. Они могут принимать аргументы и возвращать результаты выполнения.\n",
    "\n",
    "DRY - don't repeat yourself"
   ],
   "metadata": {
    "collapsed": false
   },
   "id": "1ee51bdc19a0c49c"
  },
  {
   "cell_type": "code",
   "execution_count": null,
   "outputs": [],
   "source": [
    "a = 1\n",
    "b = 5\n",
    "c = 4\n",
    "d = 7\n",
    "y = 5\n",
    "\n",
    "main_number = 47\n",
    "print(a + main_number)\n",
    "print(b + main_number)\n",
    "print(c + main_number)\n",
    "print(d + main_number)\n",
    "print(y + main_number)"
   ],
   "metadata": {
    "collapsed": false
   },
   "id": "561b2728ea6d7d1e"
  },
  {
   "cell_type": "code",
   "execution_count": 5,
   "outputs": [
    {
     "name": "stdout",
     "output_type": "stream",
     "text": [
      "1\n",
      "5\n",
      "4\n",
      "7\n"
     ]
    }
   ],
   "source": [
    "a = 1\n",
    "b = 5\n",
    "c = 4\n",
    "d = 7\n",
    "y = 0\n",
    "\n",
    "\n",
    "main_number = 47\n",
    "\n",
    "def calc(numb):\n",
    "    if y == 0:\n",
    "        print(numb)\n",
    "    else:\n",
    "        print(numb + main_number)\n",
    "\n",
    "calc(a)\n",
    "calc(b)\n",
    "calc(c)\n",
    "calc(d)"
   ],
   "metadata": {
    "collapsed": false,
    "ExecuteTime": {
     "end_time": "2025-01-20T16:05:24.957370Z",
     "start_time": "2025-01-20T16:05:24.948318Z"
    }
   },
   "id": "87b1eff1ffd6621b"
  },
  {
   "cell_type": "code",
   "execution_count": 6,
   "outputs": [
    {
     "name": "stdout",
     "output_type": "stream",
     "text": [
      "48\n"
     ]
    }
   ],
   "source": [
    "a = 1\n",
    "b = 5\n",
    "c = 4\n",
    "d = 7\n",
    "y = 1\n",
    "\n",
    "main_number = 47\n",
    "\n",
    "def calc(numb):\n",
    "    if y == 0:\n",
    "        return numb\n",
    "    else:\n",
    "        result = numb + main_number\n",
    "        return result\n",
    "    \n",
    "\n",
    "print(calc(a))"
   ],
   "metadata": {
    "collapsed": false,
    "ExecuteTime": {
     "end_time": "2025-01-20T16:06:48.004593Z",
     "start_time": "2025-01-20T16:06:47.989966Z"
    }
   },
   "id": "6d25ab80d52f4127"
  },
  {
   "cell_type": "code",
   "execution_count": 7,
   "outputs": [
    {
     "name": "stdout",
     "output_type": "stream",
     "text": [
      "None\n"
     ]
    }
   ],
   "source": [
    "def hello():\n",
    "    a = 12\n",
    "    return None\n",
    "\n",
    "print(hello())"
   ],
   "metadata": {
    "collapsed": false,
    "ExecuteTime": {
     "end_time": "2025-01-20T16:07:14.310428Z",
     "start_time": "2025-01-20T16:07:14.292530Z"
    }
   },
   "id": "52a743ba38911472"
  },
  {
   "cell_type": "code",
   "execution_count": null,
   "outputs": [],
   "source": [
    "def print_words(first, second, third, fourth, fifth):\n",
    "    print(f'The first word is {first}, second word is {second}, {third}, {fourth}, {fifth}')\n",
    "\n",
    "print_words('one', 'two', 'three', 'four', 'five')\n",
    "print_words(fifth='five', third='three', fourth='four', first='one', second='two')"
   ],
   "metadata": {
    "collapsed": false
   },
   "id": "827b4f3d08ea3b7e"
  },
  {
   "cell_type": "code",
   "execution_count": 8,
   "outputs": [
    {
     "name": "stdout",
     "output_type": "stream",
     "text": [
      "4\n",
      "8\n"
     ]
    }
   ],
   "source": [
    "def power(number, degree=2):\n",
    "    return number ** degree\n",
    "\n",
    "print(power(2))\n",
    "print(power(2, 3))"
   ],
   "metadata": {
    "collapsed": false,
    "ExecuteTime": {
     "end_time": "2025-01-20T16:25:16.939356Z",
     "start_time": "2025-01-20T16:25:16.931427Z"
    }
   },
   "id": "a6005631cfa8670b"
  },
  {
   "cell_type": "code",
   "execution_count": null,
   "outputs": [],
   "source": [
    "def example(e, f, g, ff='one', gg='two'):\n",
    "    print(e, f, g, ff, gg)\n",
    "\n",
    "example(2, 3, 6, gg=444)\n",
    "example(3, 5, 7)"
   ],
   "metadata": {
    "collapsed": false
   },
   "id": "266756cfe1c1162"
  },
  {
   "cell_type": "code",
   "execution_count": null,
   "outputs": [],
   "source": [
    "def sum_all(*args):\n",
    "    # print(args)\n",
    "    # result = 0\n",
    "    # for x in args:\n",
    "    #     result += x\n",
    "    # return result\n",
    "    return sum(args)\n",
    "\n",
    "print(sum_all(1, 4, 6, 5, 7))"
   ],
   "metadata": {
    "collapsed": false
   },
   "id": "8d965484d63846ec"
  },
  {
   "cell_type": "code",
   "execution_count": null,
   "outputs": [],
   "source": [
    "def price_list(title, price):\n",
    "    print(f'Product {title} price is {price}')\n",
    "\n",
    "price_list('iphone', 2500)\n",
    "price_list('laptop', 1500)"
   ],
   "metadata": {
    "collapsed": false
   },
   "id": "290151e5c7ea363c"
  },
  {
   "cell_type": "code",
   "execution_count": 9,
   "outputs": [
    {
     "name": "stdout",
     "output_type": "stream",
     "text": [
      "Products prices\n",
      "Product iphone price is 2500\n",
      "Product laptop price is 1500\n",
      "Product samsung price is 2000\n",
      "Product monitor price is 1000\n"
     ]
    }
   ],
   "source": [
    "def price_list(list_title, *args, default_qty=234, **kwargs):\n",
    "    print(list_title)\n",
    "    for title, price in kwargs.items():\n",
    "        print(f'Product {title} price is {price}')\n",
    "\n",
    "\n",
    "price_list('Products prices', iphone=2500, laptop=1500, samsung=2000, monitor=1000)"
   ],
   "metadata": {
    "collapsed": false,
    "ExecuteTime": {
     "end_time": "2025-01-20T16:38:39.975392Z",
     "start_time": "2025-01-20T16:38:39.957632Z"
    }
   },
   "id": "fa0a73c3f472c1e8"
  },
  {
   "cell_type": "code",
   "execution_count": null,
   "outputs": [],
   "source": [],
   "metadata": {
    "collapsed": false
   },
   "id": "98b89e4e34725ccf"
  }
 ],
 "metadata": {
  "kernelspec": {
   "display_name": "Python 3",
   "language": "python",
   "name": "python3"
  },
  "language_info": {
   "codemirror_mode": {
    "name": "ipython",
    "version": 2
   },
   "file_extension": ".py",
   "mimetype": "text/x-python",
   "name": "python",
   "nbconvert_exporter": "python",
   "pygments_lexer": "ipython2",
   "version": "2.7.6"
  }
 },
 "nbformat": 4,
 "nbformat_minor": 5
}
