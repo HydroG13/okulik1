{
 "cells": [
  {
   "cell_type": "code",
   "execution_count": 1,
   "id": "initial_id",
   "metadata": {
    "collapsed": true,
    "ExecuteTime": {
     "end_time": "2025-01-21T14:41:50.840704Z",
     "start_time": "2025-01-21T14:41:50.834403Z"
    }
   },
   "outputs": [
    {
     "name": "stdout",
     "output_type": "stream",
     "text": [
      "Text consist on the words Ivan and Tanya\n"
     ]
    }
   ],
   "source": [
    "def generate_text(text1, text2):\n",
    "    return f'Text consist on the words {text1} and {text2}'\n",
    "    # a = 1 код после RETURN не воспринимается\n",
    "\n",
    "print(generate_text('Ivan', 'Tanya'))"
   ]
  },
  {
   "cell_type": "code",
   "execution_count": null,
   "outputs": [],
   "source": [
    "my_list = [1, 2, 5, 7, 4, 9]\n",
    "\n",
    "for x in my_list:\n",
    "    print(x)"
   ],
   "metadata": {
    "collapsed": false
   },
   "id": "e5f962fdc6e6f78a"
  },
  {
   "cell_type": "code",
   "execution_count": null,
   "outputs": [],
   "source": [
    "n = 2\n",
    "\n",
    "progression = []\n",
    "start = 1\n",
    "while True:\n",
    "    progression.append(start)\n",
    "    start += n"
   ],
   "metadata": {
    "collapsed": false
   },
   "id": "6aef672e5a008d8"
  },
  {
   "cell_type": "code",
   "execution_count": 2,
   "outputs": [
    {
     "name": "stdout",
     "output_type": "stream",
     "text": [
      "1999999\n"
     ]
    }
   ],
   "source": [
    "def progression(limit=100):\n",
    "    n = 2\n",
    "    num = 1\n",
    "    count = 1\n",
    "    while count < limit:\n",
    "        yield num\n",
    "        num += n\n",
    "        count += 1\n",
    "\n",
    "# for number in progression(10):\n",
    "#     print(number)\n",
    "# print(list(progression(10)))\n",
    "\n",
    "count = 1\n",
    "for number in progression(10000000000000000000000000000000000000000):\n",
    "    if count == 1000000:\n",
    "        print(number)\n",
    "        break\n",
    "    count += 1\n",
    "        "
   ],
   "metadata": {
    "collapsed": false,
    "ExecuteTime": {
     "end_time": "2025-01-21T15:25:05.384329Z",
     "start_time": "2025-01-21T15:25:05.091215Z"
    }
   },
   "id": "ac139762957e2995"
  },
  {
   "cell_type": "code",
   "execution_count": null,
   "outputs": [],
   "source": [],
   "metadata": {
    "collapsed": false
   },
   "id": "5684da3218bef1ce"
  }
 ],
 "metadata": {
  "kernelspec": {
   "display_name": "Python 3",
   "language": "python",
   "name": "python3"
  },
  "language_info": {
   "codemirror_mode": {
    "name": "ipython",
    "version": 2
   },
   "file_extension": ".py",
   "mimetype": "text/x-python",
   "name": "python",
   "nbconvert_exporter": "python",
   "pygments_lexer": "ipython2",
   "version": "2.7.6"
  }
 },
 "nbformat": 4,
 "nbformat_minor": 5
}
