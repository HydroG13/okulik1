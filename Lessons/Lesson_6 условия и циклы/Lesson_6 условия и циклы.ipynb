{
 "cells": [
  {
   "cell_type": "markdown",
   "source": [
    "Условия"
   ],
   "metadata": {
    "collapsed": false
   },
   "id": "9703264ee4f70201"
  },
  {
   "cell_type": "raw",
   "source": [
    "if #если\n",
    "elif #иначе\n",
    "else #в других случаях"
   ],
   "metadata": {
    "collapsed": false
   },
   "id": "c3a23c53fc835e88"
  },
  {
   "cell_type": "code",
   "execution_count": 8,
   "outputs": [
    {
     "name": "stdout",
     "output_type": "stream",
     "text": [
      "Enter a number please\n"
     ]
    }
   ],
   "source": [
    "\n",
    "user_input = input('your number: ')\n",
    "\n",
    "if user_input.isnumeric():\n",
    "    user_input = int(user_input)\n",
    "    if user_input == 1:\n",
    "        print('One')\n",
    "    elif user_input == 2:\n",
    "        print('two')\n",
    "    elif user_input == 3:\n",
    "        print('three')\n",
    "    else:\n",
    "        print('many')\n",
    "else:\n",
    "    print('Enter a number please')"
   ],
   "metadata": {
    "collapsed": false,
    "ExecuteTime": {
     "end_time": "2025-01-19T18:01:57.161445Z",
     "start_time": "2025-01-19T18:01:54.420059Z"
    }
   },
   "id": "c275e627a5e6cbaa"
  },
  {
   "cell_type": "code",
   "execution_count": 6,
   "outputs": [
    {
     "name": "stdout",
     "output_type": "stream",
     "text": [
      "many\n"
     ]
    }
   ],
   "source": [
    "user_input = int(input('your number: '))\n",
    "\n",
    "if user_input == 1:\n",
    "    print('One')\n",
    "\n",
    "if user_input == 2:\n",
    "    print('two')\n",
    "\n",
    "if user_input not in [1, 2]:\n",
    "    print('many')"
   ],
   "metadata": {
    "collapsed": false,
    "ExecuteTime": {
     "end_time": "2025-01-19T17:55:01.701253Z",
     "start_time": "2025-01-19T17:55:00.608700Z"
    }
   },
   "id": "d40aed866525437d"
  },
  {
   "cell_type": "markdown",
   "source": [
    "Loops - циклы\n",
    "for loop - Цикл for"
   ],
   "metadata": {
    "collapsed": false
   },
   "id": "2f470d35c69c9068"
  },
  {
   "cell_type": "code",
   "execution_count": 11,
   "outputs": [
    {
     "name": "stdout",
     "output_type": "stream",
     "text": [
      "John\n",
      "Tim\n",
      "James\n",
      "Bob\n",
      "Jim\n",
      "Bill\n"
     ]
    }
   ],
   "source": [
    "names = ['John', 'Tim', 'James', 'Bob', 'Jim', 'Bill']\n",
    "# print(names)\n",
    "# print(names[0])\n",
    "# print(names[1])\n",
    "# print(names[2])\n",
    "# print(names[3])\n",
    "# print(names[4])\n",
    "\n",
    "for name in names:\n",
    "    print(name)"
   ],
   "metadata": {
    "collapsed": false,
    "ExecuteTime": {
     "end_time": "2025-01-19T18:10:15.065887Z",
     "start_time": "2025-01-19T18:10:15.060856Z"
    }
   },
   "id": "70335f83cc79fcbc"
  },
  {
   "cell_type": "code",
   "execution_count": 12,
   "outputs": [
    {
     "name": "stdout",
     "output_type": "stream",
     "text": [
      "John\n",
      "James\n",
      "Jim\n"
     ]
    }
   ],
   "source": [
    "names = ['John', 'Tim', 'James', 'Bob', 'Jim', 'Bill']\n",
    "for name in names:\n",
    "    if name.startswith('J'):\n",
    "        print(name)"
   ],
   "metadata": {
    "collapsed": false,
    "ExecuteTime": {
     "end_time": "2025-01-19T18:13:27.916006Z",
     "start_time": "2025-01-19T18:13:27.903513Z"
    }
   },
   "id": "e602e925b36d5a66"
  },
  {
   "cell_type": "code",
   "execution_count": 15,
   "outputs": [
    {
     "name": "stdout",
     "output_type": "stream",
     "text": [
      "MR. John\n",
      "TIm\n",
      "MR. James\n",
      "Bob\n",
      "MR. JIm\n",
      "BIll\n"
     ]
    }
   ],
   "source": [
    "names = ['John', 'Tim', 'James', 'Bob', 'Jim', 'Bill']\n",
    "for name in names:\n",
    "    name = name.replace('i', 'I')\n",
    "    if name.startswith('J'):\n",
    "        print('MR. ', end='')\n",
    "    print(name)"
   ],
   "metadata": {
    "collapsed": false,
    "ExecuteTime": {
     "end_time": "2025-01-19T18:16:06.028043Z",
     "start_time": "2025-01-19T18:16:06.019655Z"
    }
   },
   "id": "c973959d7c1cc134"
  },
  {
   "cell_type": "code",
   "execution_count": 16,
   "outputs": [
    {
     "name": "stdout",
     "output_type": "stream",
     "text": [
      "John\n",
      "Tom\n",
      "James\n"
     ]
    }
   ],
   "source": [
    "persons = {'John': 132, 'Tom': 167, 'James': 234}\n",
    "for person in persons:\n",
    "    print(person)"
   ],
   "metadata": {
    "collapsed": false,
    "ExecuteTime": {
     "end_time": "2025-01-19T18:17:57.058040Z",
     "start_time": "2025-01-19T18:17:57.033943Z"
    }
   },
   "id": "2c4cb5f6f816838d"
  },
  {
   "cell_type": "code",
   "execution_count": 17,
   "outputs": [
    {
     "name": "stdout",
     "output_type": "stream",
     "text": [
      "dict_keys(['John', 'Tom', 'James'])\n",
      "John\n",
      "Tom\n",
      "James\n"
     ]
    }
   ],
   "source": [
    "persons = {'John': 132, 'Tom': 167, 'James': 234}\n",
    "print(persons.keys())\n",
    "for person in persons.keys():\n",
    "    print(person)"
   ],
   "metadata": {
    "collapsed": false,
    "ExecuteTime": {
     "end_time": "2025-01-19T18:18:32.665824Z",
     "start_time": "2025-01-19T18:18:32.649610Z"
    }
   },
   "id": "14398fa838d6b515"
  },
  {
   "cell_type": "code",
   "execution_count": 18,
   "outputs": [
    {
     "name": "stdout",
     "output_type": "stream",
     "text": [
      "dict_values([132, 167, 234])\n",
      "132\n",
      "167\n",
      "234\n"
     ]
    }
   ],
   "source": [
    "persons = {'John': 132, 'Tom': 167, 'James': 234}\n",
    "print(persons.values())\n",
    "for person in persons.values():\n",
    "    print(person)"
   ],
   "metadata": {
    "collapsed": false,
    "ExecuteTime": {
     "end_time": "2025-01-19T18:18:44.618565Z",
     "start_time": "2025-01-19T18:18:44.602559Z"
    }
   },
   "id": "f69abe65539f141f"
  },
  {
   "cell_type": "code",
   "execution_count": 19,
   "outputs": [
    {
     "name": "stdout",
     "output_type": "stream",
     "text": [
      "John: 132\n",
      "Tom: 167\n",
      "James: 234\n"
     ]
    }
   ],
   "source": [
    "persons = {'John': 132, 'Tom': 167, 'James': 234}\n",
    "for person in persons:\n",
    "    print(f'{person}: {persons[person]}')"
   ],
   "metadata": {
    "collapsed": false,
    "ExecuteTime": {
     "end_time": "2025-01-19T18:21:24.592378Z",
     "start_time": "2025-01-19T18:21:24.574141Z"
    }
   },
   "id": "f7addd1fd455aca7"
  },
  {
   "cell_type": "code",
   "execution_count": 20,
   "outputs": [
    {
     "name": "stdout",
     "output_type": "stream",
     "text": [
      "John: 132\n",
      "Tom: 167\n",
      "James: 234\n"
     ]
    }
   ],
   "source": [
    "persons = {'John': 132, 'Tom': 167, 'James': 234}\n",
    "for name, height in persons.items():\n",
    "    print(f'{name}: {height}')"
   ],
   "metadata": {
    "collapsed": false,
    "ExecuteTime": {
     "end_time": "2025-01-19T18:26:25.561193Z",
     "start_time": "2025-01-19T18:26:25.548651Z"
    }
   },
   "id": "6fb14e321a277f0c"
  },
  {
   "cell_type": "code",
   "execution_count": 24,
   "outputs": [
    {
     "name": "stdout",
     "output_type": "stream",
     "text": [
      "justo\n",
      "commodo\n",
      "libero\n",
      "Sed vitae justo malesuada, commodo libero eu, bibendum mauris.\n"
     ]
    }
   ],
   "source": [
    "\n",
    "text = 'Sed vitae justo malesuada, commodo libero eu, bibendum mauris.'\n",
    "words = text.split(' ')\n",
    "fin_words = []\n",
    "for word in words:\n",
    "    if 'o' in word:\n",
    "        print(word)\n",
    "    else:\n",
    "        fin_words.append(word)\n",
    "\n",
    "print(' '.join(words))"
   ],
   "metadata": {
    "collapsed": false,
    "ExecuteTime": {
     "end_time": "2025-01-19T18:30:12.160075Z",
     "start_time": "2025-01-19T18:30:12.151092Z"
    }
   },
   "id": "afbddc5e8b3a52c3"
  },
  {
   "cell_type": "code",
   "execution_count": null,
   "outputs": [],
   "source": [],
   "metadata": {
    "collapsed": false
   },
   "id": "85b618ca9174d083"
  }
 ],
 "metadata": {
  "kernelspec": {
   "display_name": "Python 3",
   "language": "python",
   "name": "python3"
  },
  "language_info": {
   "codemirror_mode": {
    "name": "ipython",
    "version": 2
   },
   "file_extension": ".py",
   "mimetype": "text/x-python",
   "name": "python",
   "nbconvert_exporter": "python",
   "pygments_lexer": "ipython2",
   "version": "2.7.6"
  }
 },
 "nbformat": 4,
 "nbformat_minor": 5
}
