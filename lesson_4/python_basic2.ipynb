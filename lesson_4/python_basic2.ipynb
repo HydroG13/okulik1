{
 "cells": [
  {
   "cell_type": "code",
   "execution_count": 1,
   "id": "initial_id",
   "metadata": {
    "collapsed": true,
    "ExecuteTime": {
     "end_time": "2025-01-15T16:13:16.631986Z",
     "start_time": "2025-01-15T16:13:16.615366Z"
    }
   },
   "outputs": [
    {
     "data": {
      "text/plain": "2"
     },
     "execution_count": 1,
     "metadata": {},
     "output_type": "execute_result"
    }
   ],
   "source": [
    "a = 2\n",
    "a"
   ]
  },
  {
   "cell_type": "code",
   "execution_count": 3,
   "outputs": [
    {
     "name": "stdout",
     "output_type": "stream",
     "text": [
      "2\n"
     ]
    }
   ],
   "source": [
    "a = 1\n",
    "a += 1\n",
    "# a = a + 1 \n",
    "print(a)"
   ],
   "metadata": {
    "collapsed": false,
    "ExecuteTime": {
     "end_time": "2025-01-15T16:16:18.665332Z",
     "start_time": "2025-01-15T16:16:18.659527Z"
    }
   },
   "id": "f7859dc95df4bb1d"
  },
  {
   "cell_type": "code",
   "execution_count": 5,
   "outputs": [
    {
     "name": "stdout",
     "output_type": "stream",
     "text": [
      "text new\n"
     ]
    }
   ],
   "source": [
    "# print('text' + 'text')\n",
    "text = 'text'\n",
    "text += ' new'\n",
    "print(text)"
   ],
   "metadata": {
    "collapsed": false,
    "ExecuteTime": {
     "end_time": "2025-01-15T16:19:34.895138Z",
     "start_time": "2025-01-15T16:19:34.887359Z"
    }
   },
   "id": "2f2cb289b7935e26"
  },
  {
   "cell_type": "code",
   "execution_count": 6,
   "outputs": [
    {
     "name": "stdout",
     "output_type": "stream",
     "text": [
      "***************\n",
      "Copyright\n",
      "***************\n"
     ]
    }
   ],
   "source": [
    "print('*' * 15)\n",
    "print('Copyright')\n",
    "print('*' * 15)"
   ],
   "metadata": {
    "collapsed": false,
    "ExecuteTime": {
     "end_time": "2025-01-15T16:21:12.765464Z",
     "start_time": "2025-01-15T16:21:12.749665Z"
    }
   },
   "id": "223a0efa8c86ab9a"
  },
  {
   "cell_type": "code",
   "execution_count": 8,
   "outputs": [
    {
     "name": "stdout",
     "output_type": "stream",
     "text": [
      "===============\n",
      "copyright\n",
      "===============\n"
     ]
    }
   ],
   "source": [
    "symbol = '='\n",
    "symbol *= 15\n",
    "print(symbol)\n",
    "print(\"copyright\")\n",
    "print(symbol)"
   ],
   "metadata": {
    "collapsed": false,
    "ExecuteTime": {
     "end_time": "2025-01-15T16:23:04.303154Z",
     "start_time": "2025-01-15T16:23:04.296417Z"
    }
   },
   "id": "a71fc373def5e244"
  },
  {
   "cell_type": "code",
   "execution_count": 11,
   "outputs": [
    {
     "name": "stdout",
     "output_type": "stream",
     "text": [
      "True\n",
      "False\n",
      "False\n"
     ]
    }
   ],
   "source": [
    "text = \"I love Python\"\n",
    "print('love' in text)\n",
    "print('Love' in text)\n",
    "print('Love' in text)"
   ],
   "metadata": {
    "collapsed": false,
    "ExecuteTime": {
     "end_time": "2025-01-15T16:25:54.437795Z",
     "start_time": "2025-01-15T16:25:54.432740Z"
    }
   },
   "id": "641aec81b595554d"
  },
  {
   "cell_type": "code",
   "execution_count": 14,
   "outputs": [
    {
     "name": "stdout",
     "output_type": "stream",
     "text": [
      "140506499836240\n",
      "140506499836240\n",
      "140506517403600\n",
      "140506517402320\n",
      "True\n",
      "True\n"
     ]
    }
   ],
   "source": [
    "b =2 \n",
    "print(id(b))\n",
    "c = 2\n",
    "print(id(c))\n",
    "d = 257\n",
    "print(id(d))\n",
    "e = 257\n",
    "print(id(e))\n",
    "print(c is b)\n",
    "print(d is not e)"
   ],
   "metadata": {
    "collapsed": false,
    "ExecuteTime": {
     "end_time": "2025-01-15T16:46:09.020391Z",
     "start_time": "2025-01-15T16:46:09.014609Z"
    }
   },
   "id": "b1abd23c8ee932eb"
  },
  {
   "cell_type": "markdown",
   "source": [
    "Способы ввода данных\n",
    "Клавиатура\n",
    "Чтение из файла\n",
    "База данных\n",
    "API\n",
    "\n",
    "Но сначала разберемся с одним из них"
   ],
   "metadata": {
    "collapsed": false
   },
   "id": "cea6fcf9577e90d4"
  },
  {
   "cell_type": "code",
   "execution_count": 15,
   "outputs": [
    {
     "data": {
      "text/plain": "'fsdfsd'"
     },
     "execution_count": 15,
     "metadata": {},
     "output_type": "execute_result"
    }
   ],
   "source": [
    "input('What is the your name?')"
   ],
   "metadata": {
    "collapsed": false,
    "ExecuteTime": {
     "end_time": "2025-01-15T16:47:55.940218Z",
     "start_time": "2025-01-15T16:47:49.074346Z"
    }
   },
   "id": "40b7a05cf7dbaee4"
  },
  {
   "cell_type": "code",
   "execution_count": 19,
   "outputs": [
    {
     "name": "stdout",
     "output_type": "stream",
     "text": [
      "Hello _Pavel_!\n"
     ]
    }
   ],
   "source": [
    "user_name = input('What is the your name?')\n",
    "print('Hello ', user_name, '!', sep='_')"
   ],
   "metadata": {
    "collapsed": false,
    "ExecuteTime": {
     "end_time": "2025-01-15T16:49:40.930692Z",
     "start_time": "2025-01-15T16:49:39.015430Z"
    }
   },
   "id": "ba5bb57b02fbac81"
  },
  {
   "cell_type": "markdown",
   "source": [
    "Касательно функции input, важно знать, что все, что ввел пользователь будет сохранено в переменную как текст, независимо от того что пользователь ввел. Поэтому, если мы ждем от пользователя число и хотим работать с этим как с числом, то нужно будет преобразовать тот текст, который ввел пользователь в число."
   ],
   "metadata": {
    "collapsed": false
   },
   "id": "f40093db1daf7799"
  },
  {
   "cell_type": "code",
   "execution_count": 27,
   "outputs": [
    {
     "name": "stdout",
     "output_type": "stream",
     "text": [
      "<class 'int'>\n",
      "4\n"
     ]
    }
   ],
   "source": [
    "user_input = int(input('Enter something'))\n",
    "print(type(user_input))\n",
    "print(2 + user_input)"
   ],
   "metadata": {
    "collapsed": false,
    "ExecuteTime": {
     "end_time": "2025-01-15T17:27:10.359594Z",
     "start_time": "2025-01-15T17:27:08.115924Z"
    }
   },
   "id": "747320ae42243ae0"
  },
  {
   "cell_type": "code",
   "execution_count": 32,
   "outputs": [
    {
     "name": "stdout",
     "output_type": "stream",
     "text": [
      "<class 'str'>\n",
      "<class 'int'>\n",
      "<class 'str'>\n",
      "<class 'str'>\n",
      "<class 'bool'>\n",
      "<class 'float'>\n",
      "1.0\n"
     ]
    }
   ],
   "source": [
    "a = '1'\n",
    "print(type(a))\n",
    "a = int(a)\n",
    "print(type(a))\n",
    "a = str(a)\n",
    "print(type(a))\n",
    "b ='True'\n",
    "print(type(b))\n",
    "b = bool(b)\n",
    "print(type(b))\n",
    "a =float(a)\n",
    "print(type(a))\n",
    "print(a)"
   ],
   "metadata": {
    "collapsed": false,
    "ExecuteTime": {
     "end_time": "2025-01-15T17:30:46.153227Z",
     "start_time": "2025-01-15T17:30:46.146717Z"
    }
   },
   "id": "a517a8f2bcf06a7a"
  },
  {
   "cell_type": "markdown",
   "source": [
    "Типы данных в Python\n",
    "Number (целое число)\n",
    "String (строка)\n",
    "Boolean (логический тип данных)\n",
    "Float(числа с плавающей точкой)\n",
    "List (список)\n",
    "Dictionary (словарь)\n",
    "Tuple (кортеж)\n",
    "Set (множество)"
   ],
   "metadata": {
    "collapsed": false
   },
   "id": "e11e57ad05cce932"
  },
  {
   "cell_type": "markdown",
   "source": [
    "List(списки)\n",
    "Python список - структура данных для хранения последовательностей.\n",
    "Экземпляры значений, находящихся в списке, называются элементами списка."
   ],
   "metadata": {
    "collapsed": false
   },
   "id": "7ac081fc03a1fc4b"
  },
  {
   "cell_type": "code",
   "execution_count": 37,
   "outputs": [
    {
     "name": "stdout",
     "output_type": "stream",
     "text": [
      "6\n",
      "1\n",
      "last\n",
      "last2\n",
      "sdsdf\n",
      "[1, 3, 42, 7, None, 'text', False, 2.42, 'sdsdf', 'last', 'last2']\n"
     ]
    }
   ],
   "source": [
    "my_list = [1, 3, 6, 7, None, 'text', False, 2.42, 'sdsdf', 'last', 'last2']\n",
    "print(my_list[2])\n",
    "print(my_list[0])\n",
    "print(my_list[9])\n",
    "print(my_list[-1])\n",
    "print(my_list[-3])\n",
    "my_list[2] = 42\n",
    "print(my_list)"
   ],
   "metadata": {
    "collapsed": false,
    "ExecuteTime": {
     "end_time": "2025-01-15T17:37:42.470721Z",
     "start_time": "2025-01-15T17:37:42.463707Z"
    }
   },
   "id": "6433d941673d4eef"
  },
  {
   "cell_type": "code",
   "execution_count": 44,
   "outputs": [
    {
     "name": "stdout",
     "output_type": "stream",
     "text": [
      "[42, 'text']\n",
      "2\n",
      "1\n",
      "['text']\n",
      "42\n",
      "True\n",
      "False\n"
     ]
    }
   ],
   "source": [
    "my_list =[]\n",
    "my_list = list()\n",
    "my_list.append(42)\n",
    "my_list.append('text')\n",
    "print(my_list)\n",
    "print(len(my_list))\n",
    "print(my_list.index('text'))\n",
    "poped = my_list.pop(0)\n",
    "print(my_list)\n",
    "print(poped)\n",
    "print('text' in my_list)\n",
    "print(42 in my_list)"
   ],
   "metadata": {
    "collapsed": false,
    "ExecuteTime": {
     "end_time": "2025-01-15T17:44:29.725623Z",
     "start_time": "2025-01-15T17:44:29.719591Z"
    }
   },
   "id": "a3a40875af02c2cc"
  },
  {
   "cell_type": "markdown",
   "source": [
    "Tuple(кортежи)\n",
    "Хранят данные различных типов\n",
    "Неизменяемы\n",
    "Занимают меньший размер\n",
    "Оптимизируются интепретатором\n",
    "По поведению похожи на списки. Главное отличие - нет функций, позволяющих что-то добавить в кортеж или изменить внутри него"
   ],
   "metadata": {
    "collapsed": false
   },
   "id": "985a75ac36676a21"
  },
  {
   "cell_type": "code",
   "execution_count": 46,
   "outputs": [
    {
     "name": "stdout",
     "output_type": "stream",
     "text": [
      "6\n",
      "2.42\n"
     ]
    }
   ],
   "source": [
    "my_tuple = (1, 3, 6, 7, None, 'text', False, 2.42)\n",
    "print (my_tuple[2])\n",
    "print(my_tuple[-1])"
   ],
   "metadata": {
    "collapsed": false,
    "ExecuteTime": {
     "end_time": "2025-01-15T17:45:48.444770Z",
     "start_time": "2025-01-15T17:45:48.438092Z"
    }
   },
   "id": "e17be1942e1a9361"
  },
  {
   "cell_type": "code",
   "execution_count": 50,
   "outputs": [
    {
     "name": "stdout",
     "output_type": "stream",
     "text": [
      "(1, 3, 6, 7, 1)\n",
      "2\n",
      "2\n"
     ]
    }
   ],
   "source": [
    "my_tuple = ()\n",
    "my_tuple = tuple()\n",
    "my_tuple = (1, 3 , 6 , 7, 1)\n",
    "print (my_tuple)\n",
    "print (my_tuple.count(1))\n",
    "print (my_tuple.index(6))"
   ],
   "metadata": {
    "collapsed": false,
    "ExecuteTime": {
     "end_time": "2025-01-15T17:49:06.900537Z",
     "start_time": "2025-01-15T17:49:06.889624Z"
    }
   },
   "id": "3d36c6ca4a2861a6"
  },
  {
   "cell_type": "code",
   "execution_count": 56,
   "outputs": [
    {
     "name": "stdout",
     "output_type": "stream",
     "text": [
      "[56]\n",
      "(56,)\n",
      "<class 'tuple'>\n"
     ]
    }
   ],
   "source": [
    "llist = [56]\n",
    "print (llist)\n",
    "ttuple = (56,)\n",
    "print (ttuple)\n",
    "print (type(ttuple))"
   ],
   "metadata": {
    "collapsed": false,
    "ExecuteTime": {
     "end_time": "2025-01-15T17:51:46.950127Z",
     "start_time": "2025-01-15T17:51:46.940747Z"
    }
   },
   "id": "9903451515a3955d"
  },
  {
   "cell_type": "markdown",
   "source": [
    "Set(множества)\n",
    "Содержит в себе только неповторяющиеся элементы\n",
    "Не гарантирует порядок элементов\n",
    "Работа с ним тоже похожа на работу со списком"
   ],
   "metadata": {
    "collapsed": false
   },
   "id": "9f1da110337bba68"
  },
  {
   "cell_type": "code",
   "execution_count": 59,
   "outputs": [
    {
     "name": "stdout",
     "output_type": "stream",
     "text": [
      "{False, 1, 'text', 3, 2.42, 6, 7, None}\n",
      "{False, 1, 'text', 3, 2.42, 6, 7, 42, None}\n"
     ]
    }
   ],
   "source": [
    "my_set = {1, 3, 6, 7, None, 'text', False, 2.42, 3, 7}\n",
    "print(my_set)\n",
    "my_set.add(42)\n",
    "my_set.add('text')\n",
    "print(my_set)"
   ],
   "metadata": {
    "collapsed": false,
    "ExecuteTime": {
     "end_time": "2025-01-15T17:55:16.866361Z",
     "start_time": "2025-01-15T17:55:16.856999Z"
    }
   },
   "id": "f267116b4b86b458"
  },
  {
   "cell_type": "code",
   "execution_count": 61,
   "outputs": [
    {
     "name": "stdout",
     "output_type": "stream",
     "text": [
      "[1, 2, 4, 7, 8]\n"
     ]
    }
   ],
   "source": [
    "list1 = list(set([1, 2, 4, 7, 8, 2, 1]))\n",
    "list1 = set(list1)\n",
    "list1  = list(list1)\n",
    "print(list1)    "
   ],
   "metadata": {
    "collapsed": false,
    "ExecuteTime": {
     "end_time": "2025-01-15T17:56:50.488302Z",
     "start_time": "2025-01-15T17:56:50.469873Z"
    }
   },
   "id": "9487632585483b45"
  },
  {
   "cell_type": "markdown",
   "source": [],
   "metadata": {
    "collapsed": false
   },
   "id": "7a77922b90d4d262"
  },
  {
   "cell_type": "code",
   "execution_count": null,
   "outputs": [],
   "source": [
    "Dictionary(словари)\n",
    "Словари в Python - коллекции произвольных объектов с доступом по ключу. Их иногда ещё называют ассоциативными массивами или хеш-таблицами.\n",
    "\n",
    "данные в словаре - это пары ключ: значение\n",
    "доступ к значениям осуществляется по ключу, а не по номеру, как в списках\n",
    "данные в словаре упорядочены по порядку добавления элементов\n",
    "так как словари изменяемы, то элементы словаря можно менять, добавлять, удалять\n",
    "ключ должен быть объектом неизменяемого типа: число, строка, кортеж\n",
    "значение может быть данными любого типа"
   ],
   "metadata": {
    "collapsed": false
   },
   "id": "290b0252e42c14e5"
  },
  {
   "cell_type": "markdown",
   "source": [],
   "metadata": {
    "collapsed": false
   },
   "id": "ba0860a2aed431ba"
  },
  {
   "cell_type": "code",
   "execution_count": 67,
   "outputs": [
    {
     "name": "stdout",
     "output_type": "stream",
     "text": [
      "value\n",
      "2\n",
      "{'one': 'my_value', 'two': 'value2', 'three': 'value3', 'four': False, 'five': [1, 2, 'str'], 'six': {1, 2, 3}, 2: 'skldjflskdf', False: 'skdjhskdjf', 2.42: 'werwerw', (1, 2): 'ieruyieurtert', 5: {1: 2}}\n",
      "<class 'dict'>\n",
      "dict_keys(['one', 'two', 'three', 'four', 'five', 'six', 2, False, 2.42, (1, 2), 5])\n",
      "dict_values(['my_value', 'value2', 'value3', False, [1, 2, 'str'], {1, 2, 3}, 'skldjflskdf', 'skdjhskdjf', 'werwerw', 'ieruyieurtert', {1: 2}])\n",
      "dict_items([('one', 'my_value'), ('two', 'value2'), ('three', 'value3'), ('four', False), ('five', [1, 2, 'str']), ('six', {1, 2, 3}), (2, 'skldjflskdf'), (False, 'skdjhskdjf'), (2.42, 'werwerw'), ((1, 2), 'ieruyieurtert'), (5, {1: 2})])\n"
     ]
    }
   ],
   "source": [
    "my_dict = {'one': 'value', 'two': 'value2'}\n",
    "print(my_dict['one'])\n",
    "print(len(my_dict))\n",
    "my_dict['one'] = 'my_value'\n",
    "my_dict['three'] = 'value3'\n",
    "my_dict['four'] = False\n",
    "my_dict['five'] = [1, 2, 'str']\n",
    "my_dict['six'] = {1, 2, 3}\n",
    "my_dict[2] = 'skldjflskdf'\n",
    "my_dict[False] = 'skdjhskdjf'\n",
    "my_dict[2.42] = 'werwerw'\n",
    "my_dict[(1, 2)] = 'ieruyieurtert'\n",
    "my_dict[5] = {1: 2}\n",
    "print(my_dict)\n",
    "print(type(my_dict))\n",
    "\n",
    "print(my_dict.keys())\n",
    "print(my_dict.values())\n",
    "print(my_dict.items())"
   ],
   "metadata": {
    "collapsed": false,
    "ExecuteTime": {
     "end_time": "2025-01-15T18:08:11.687632Z",
     "start_time": "2025-01-15T18:08:11.672529Z"
    }
   },
   "id": "91fadea285ae0566"
  },
  {
   "cell_type": "code",
   "execution_count": null,
   "outputs": [],
   "source": [],
   "metadata": {
    "collapsed": false
   },
   "id": "65e2ce88daa1ac6e"
  }
 ],
 "metadata": {
  "kernelspec": {
   "display_name": "Python 3",
   "language": "python",
   "name": "python3"
  },
  "language_info": {
   "codemirror_mode": {
    "name": "ipython",
    "version": 2
   },
   "file_extension": ".py",
   "mimetype": "text/x-python",
   "name": "python",
   "nbconvert_exporter": "python",
   "pygments_lexer": "ipython2",
   "version": "2.7.6"
  }
 },
 "nbformat": 4,
 "nbformat_minor": 5
}
