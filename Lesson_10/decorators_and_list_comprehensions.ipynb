{
 "cells": [
  {
   "cell_type": "markdown",
   "source": [
    "Decorators"
   ],
   "metadata": {
    "collapsed": false
   },
   "id": "5c5a138e3d449316"
  },
  {
   "cell_type": "code",
   "execution_count": 1,
   "outputs": [
    {
     "name": "stdout",
     "output_type": "stream",
     "text": [
      "2\n",
      "<function calc at 0x7fac28d6bca0>\n",
      "<function calc at 0x7fac28d6bca0>\n",
      "2\n"
     ]
    }
   ],
   "source": [
    "def calc():\n",
    "    print(1 + 1)\n",
    "\n",
    "calc()\n",
    "print(calc)\n",
    "new_calc = calc\n",
    "print(new_calc)\n",
    "new_calc()\n",
    "a = 1"
   ],
   "metadata": {
    "collapsed": false,
    "ExecuteTime": {
     "end_time": "2025-01-23T15:48:45.852512Z",
     "start_time": "2025-01-23T15:48:45.846055Z"
    }
   },
   "id": "64f13f4ac9a498a"
  },
  {
   "cell_type": "code",
   "execution_count": 3,
   "id": "initial_id",
   "metadata": {
    "collapsed": true,
    "ExecuteTime": {
     "end_time": "2025-01-23T15:50:45.729367Z",
     "start_time": "2025-01-23T15:50:45.721632Z"
    }
   },
   "outputs": [
    {
     "name": "stdout",
     "output_type": "stream",
     "text": [
      "None\n"
     ]
    }
   ],
   "source": [
    "def greet():\n",
    "\n",
    "    def hello():\n",
    "        return 'hello'\n",
    "    \n",
    "    return hello()\n",
    "\n",
    "print(greet())"
   ]
  },
  {
   "cell_type": "code",
   "execution_count": 4,
   "outputs": [
    {
     "name": "stdout",
     "output_type": "stream",
     "text": [
      "7\n",
      "7\n"
     ]
    }
   ],
   "source": [
    "def outer():\n",
    "\n",
    "    def inner():\n",
    "        result = 2 + 5\n",
    "        return result\n",
    "    \n",
    "    return inner\n",
    "\n",
    "\n",
    "print(outer()())\n",
    "inner_function = outer()\n",
    "print(inner_function())"
   ],
   "metadata": {
    "collapsed": false,
    "ExecuteTime": {
     "end_time": "2025-01-23T15:56:24.589191Z",
     "start_time": "2025-01-23T15:56:24.584085Z"
    }
   },
   "id": "efe3519d2f36f039"
  },
  {
   "cell_type": "code",
   "execution_count": 5,
   "outputs": [
    {
     "name": "stdout",
     "output_type": "stream",
     "text": [
      "simple1\n",
      "simple2\n",
      "before\n",
      "simple1\n",
      "after\n",
      "before\n",
      "simple2\n",
      "after\n",
      "before\n",
      "I\n",
      "love\n",
      "Python\n",
      "and\n",
      "decorators\n",
      "after\n"
     ]
    }
   ],
   "source": [
    "def func1(give_me_a_func):\n",
    "    print('before')\n",
    "    give_me_a_func()\n",
    "    print('after')\n",
    "\n",
    "\n",
    "def simple1():\n",
    "    print('simple1')\n",
    "\n",
    "def simple2():\n",
    "    print('simple2')\n",
    "\n",
    "simple1()\n",
    "simple2()\n",
    "\n",
    "func1(simple1)\n",
    "func1(simple2)\n",
    "\n",
    "def simple3():\n",
    "    print('I')\n",
    "    print('love')\n",
    "    print('Python')\n",
    "    print('and')\n",
    "    print('decorators')\n",
    "\n",
    "func1(simple3)"
   ],
   "metadata": {
    "collapsed": false,
    "ExecuteTime": {
     "end_time": "2025-01-23T16:05:31.636981Z",
     "start_time": "2025-01-23T16:05:31.631819Z"
    }
   },
   "id": "cd2ff739346d2994"
  },
  {
   "cell_type": "code",
   "execution_count": 6,
   "outputs": [
    {
     "name": "stdout",
     "output_type": "stream",
     "text": [
      "simple1\n",
      "<function add_text.<locals>.wrapper at 0x7fac28d6be50>\n",
      "before\n",
      "simple1\n",
      "after\n",
      "simple2\n",
      "before\n",
      "simple2\n",
      "after\n"
     ]
    }
   ],
   "source": [
    "def add_text(func):\n",
    "\n",
    "    def wrapper():\n",
    "        print('before')\n",
    "        func()\n",
    "        print('after')\n",
    "\n",
    "    return wrapper\n",
    "\n",
    "\n",
    "def simple1():\n",
    "    print('simple1')\n",
    "\n",
    "simple1()\n",
    "\n",
    "simple1 = add_text(simple1)\n",
    "\n",
    "print(simple1)\n",
    "simple1()\n",
    "    \n",
    "\n",
    "def simple2():\n",
    "    print('simple2')\n",
    "\n",
    "simple2()\n",
    "\n",
    "simple2 = add_text(simple2)\n",
    "\n",
    "simple2()"
   ],
   "metadata": {
    "collapsed": false,
    "ExecuteTime": {
     "end_time": "2025-01-23T16:26:35.808344Z",
     "start_time": "2025-01-23T16:26:35.803461Z"
    }
   },
   "id": "dbfc516eb1b2f75c"
  },
  {
   "cell_type": "code",
   "execution_count": 7,
   "outputs": [
    {
     "name": "stdout",
     "output_type": "stream",
     "text": [
      "function simple1 started\n",
      "simple1\n",
      "finished simple1\n",
      "function simple2 started\n",
      "simple2\n",
      "simple2\n",
      "finished simple2\n",
      "function print_nothing started\n",
      "finished print_nothing\n",
      "hello\n"
     ]
    },
    {
     "ename": "TypeError",
     "evalue": "wrapper() takes 0 positional arguments but 1 was given",
     "output_type": "error",
     "traceback": [
      "\u001B[0;31m---------------------------------------------------------------------------\u001B[0m",
      "\u001B[0;31mTypeError\u001B[0m                                 Traceback (most recent call last)",
      "Cell \u001B[0;32mIn[7], line 35\u001B[0m\n\u001B[1;32m     33\u001B[0m simple2()\n\u001B[1;32m     34\u001B[0m \u001B[38;5;28mprint\u001B[39m(print_nothing())\n\u001B[0;32m---> 35\u001B[0m \u001B[43mcalc\u001B[49m\u001B[43m(\u001B[49m\u001B[38;5;241;43m3\u001B[39;49m\u001B[43m)\u001B[49m\n",
      "\u001B[0;31mTypeError\u001B[0m: wrapper() takes 0 positional arguments but 1 was given"
     ]
    }
   ],
   "source": [
    "def add_logs(func):\n",
    "    \n",
    "    def wrapper():\n",
    "        print(f'function {func.__name__} started')\n",
    "        result = func()\n",
    "        print(f'finished {func.__name__}')\n",
    "        return result\n",
    "        \n",
    "\n",
    "    return wrapper\n",
    "\n",
    "\n",
    "@add_logs\n",
    "def simple1():\n",
    "    print('simple1')\n",
    "\n",
    "\n",
    "@add_logs\n",
    "def simple2():\n",
    "    print('simple2')\n",
    "    print('simple2')\n",
    "\n",
    "\n",
    "@add_logs\n",
    "def print_nothing():\n",
    "    return 'hello'\n",
    "\n",
    "@add_logs\n",
    "def calc(x):\n",
    "    print(x * 2)\n",
    "\n",
    "simple1()\n",
    "simple2()\n",
    "print(print_nothing())\n",
    "calc(3)"
   ],
   "metadata": {
    "collapsed": false,
    "ExecuteTime": {
     "end_time": "2025-01-23T16:51:18.878788Z",
     "start_time": "2025-01-23T16:51:18.530808Z"
    }
   },
   "id": "82491e1b134bab77"
  },
  {
   "cell_type": "code",
   "execution_count": 8,
   "outputs": [
    {
     "name": "stdout",
     "output_type": "stream",
     "text": [
      "function simple1 started\n",
      "simple1\n",
      "finished simple1\n",
      "function print_nothing started\n",
      "finished print_nothing\n",
      "hello\n",
      "function calc started\n",
      "6\n",
      "finished calc\n",
      "function calc2 started\n",
      "21\n",
      "finished calc2\n"
     ]
    }
   ],
   "source": [
    "def add_logs(func):\n",
    "    \n",
    "    def wrapper(*args):\n",
    "        print(f'function {func.__name__} started')\n",
    "        result = func(*args)\n",
    "        print(f'finished {func.__name__}')\n",
    "        return result\n",
    "        \n",
    "\n",
    "    return wrapper\n",
    "\n",
    "@add_logs\n",
    "def simple1():\n",
    "    print('simple1')\n",
    "\n",
    "@add_logs\n",
    "def print_nothing():\n",
    "    return 'hello'\n",
    "\n",
    "@add_logs\n",
    "def calc(x):\n",
    "    print(x * 2)\n",
    "\n",
    "@add_logs\n",
    "def calc2(x, y):\n",
    "    print(x * y)\n",
    "\n",
    "simple1()\n",
    "print(print_nothing())\n",
    "calc(3)\n",
    "calc2(3, 7)"
   ],
   "metadata": {
    "collapsed": false,
    "ExecuteTime": {
     "end_time": "2025-01-23T17:05:31.308716Z",
     "start_time": "2025-01-23T17:05:31.302320Z"
    }
   },
   "id": "9f4e65fe74a5d565"
  },
  {
   "cell_type": "code",
   "execution_count": null,
   "outputs": [],
   "source": [
    "def func(*args):\n",
    "    # print((1, 2, 3, 5, 9))\n",
    "    print(*args)\n",
    "    # print(1, 2, 3, 5, 9)\n",
    "\n",
    "func(1, 2, 3, 5, 9)"
   ],
   "metadata": {
    "collapsed": false
   },
   "id": "6c2c5b7971a117d8"
  },
  {
   "cell_type": "markdown",
   "source": [
    "List comprehension"
   ],
   "metadata": {
    "collapsed": false
   },
   "id": "d677c959942e9b53"
  },
  {
   "cell_type": "code",
   "execution_count": 9,
   "outputs": [
    {
     "name": "stdout",
     "output_type": "stream",
     "text": [
      "[2, 4, 6, 8, 10, 12, 14, 16, 20]\n"
     ]
    }
   ],
   "source": [
    "my_list = [1, 2, 3, 4, 5, 6, 7, 8, 10]\n",
    "\n",
    "new_list = []\n",
    "# for x in my_list:\n",
    "#     new_list.append(x * 2)\n",
    "new_list = [x * 2 for x in my_list]\n",
    "# new_list = map(lambda x: x * 2, my_list)\n",
    "\n",
    "\n",
    "print(new_list)"
   ],
   "metadata": {
    "collapsed": false,
    "ExecuteTime": {
     "end_time": "2025-01-23T17:14:02.502779Z",
     "start_time": "2025-01-23T17:14:02.495957Z"
    }
   },
   "id": "b45d2a09005f46a8"
  },
  {
   "cell_type": "code",
   "execution_count": 10,
   "outputs": [
    {
     "name": "stdout",
     "output_type": "stream",
     "text": [
      "1 is not even\n",
      "3 is not even\n",
      "5 is not even\n",
      "7 is not even\n",
      "[2, 4, 6, 8, 10]\n",
      "[None, 2, None, 4, None, 6, None, 8, 10]\n",
      "<generator object <genexpr> at 0x7fabd03f0350>\n"
     ]
    }
   ],
   "source": [
    "my_list = [1, 2, 3, 4, 5, 6, 7, 8, 10]\n",
    "\n",
    "# new_list = []\n",
    "# for x in my_list:\n",
    "#     if x % 2 == 0:\n",
    "#         new_list.append(x)\n",
    "\n",
    "# new_list = filter(lambda x: x % 2 == 0, my_list)\n",
    "new_list = [x for x in my_list if x % 2 == 0]\n",
    "new_list2 = [x if x % 2 == 0 else x + 1 for x in my_list]\n",
    "new_list2 = [x if x % 2 == 0 else print(f'{x} is not even') for x in my_list]\n",
    "new_generator = (x for x in my_list if x % 2 == 0)\n",
    "\n",
    "print(new_list)\n",
    "print(new_list2)\n",
    "print(new_generator)"
   ],
   "metadata": {
    "collapsed": false,
    "ExecuteTime": {
     "end_time": "2025-01-23T17:19:07.138861Z",
     "start_time": "2025-01-23T17:19:07.126039Z"
    }
   },
   "id": "89bea8460de433f8"
  },
  {
   "cell_type": "code",
   "execution_count": 11,
   "outputs": [
    {
     "name": "stdout",
     "output_type": "stream",
     "text": [
      "{1: 3, 2: 6, 3: 9, 4: 12, 5: 15, 6: 18, 7: 21, 8: 24, 10: 30}\n"
     ]
    }
   ],
   "source": [
    "my_list = [1, 2, 3, 4, 5, 6, 7, 8, 10]\n",
    "\n",
    "{1: 3, 'SDFSDF': 'WER'}\n",
    "\n",
    "# new_dict = {}\n",
    "# for x in my_list:\n",
    "#     new_dict[x] = x * 3\n",
    "\n",
    "new_dict = {x: x * 3 for x in my_list}\n",
    "\n",
    "print(new_dict)"
   ],
   "metadata": {
    "collapsed": false,
    "ExecuteTime": {
     "end_time": "2025-01-23T17:31:30.079006Z",
     "start_time": "2025-01-23T17:31:30.073857Z"
    }
   },
   "id": "1175018fb2f54aec"
  },
  {
   "cell_type": "code",
   "execution_count": 12,
   "outputs": [
    {
     "name": "stdout",
     "output_type": "stream",
     "text": [
      "{'one': 'two', 'three': 'four'}\n"
     ]
    }
   ],
   "source": [
    "data = [('one', 'two'), ('three', 'four')]\n",
    "\n",
    "# new_dict = {}\n",
    "# for key, value in data:\n",
    "#     new_dict[key] = value\n",
    "\n",
    "new_dict = {key: value for key, value in data}\n",
    "new_dict = dict(data)\n",
    "\n",
    "print(new_dict)"
   ],
   "metadata": {
    "collapsed": false,
    "ExecuteTime": {
     "end_time": "2025-01-23T17:35:15.449747Z",
     "start_time": "2025-01-23T17:35:15.432149Z"
    }
   },
   "id": "bad1050853890fd"
  },
  {
   "cell_type": "code",
   "execution_count": 13,
   "outputs": [
    {
     "name": "stdout",
     "output_type": "stream",
     "text": [
      "{'USA': 23, 'Hawaii': 33, 'Cuba': 35}\n"
     ]
    }
   ],
   "source": [
    "countries = ['USA', 'Hawaii', 'Cuba']\n",
    "temps = [23, 33, 35]\n",
    "\n",
    "country_temps_dict = dict(zip(countries, temps))\n",
    "print(country_temps_dict)"
   ],
   "metadata": {
    "collapsed": false,
    "ExecuteTime": {
     "end_time": "2025-01-23T17:35:51.839998Z",
     "start_time": "2025-01-23T17:35:51.834559Z"
    }
   },
   "id": "34131ed20b1163b"
  },
  {
   "cell_type": "code",
   "execution_count": null,
   "outputs": [],
   "source": [],
   "metadata": {
    "collapsed": false
   },
   "id": "fa0213803811ae52"
  }
 ],
 "metadata": {
  "kernelspec": {
   "display_name": "Python 3",
   "language": "python",
   "name": "python3"
  },
  "language_info": {
   "codemirror_mode": {
    "name": "ipython",
    "version": 2
   },
   "file_extension": ".py",
   "mimetype": "text/x-python",
   "name": "python",
   "nbconvert_exporter": "python",
   "pygments_lexer": "ipython2",
   "version": "2.7.6"
  }
 },
 "nbformat": 4,
 "nbformat_minor": 5
}
