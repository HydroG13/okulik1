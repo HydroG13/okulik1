{
 "cells": [
  {
   "cell_type": "code",
   "execution_count": 1,
   "id": "initial_id",
   "metadata": {
    "collapsed": true,
    "ExecuteTime": {
     "end_time": "2025-01-22T15:32:11.938494Z",
     "start_time": "2025-01-22T15:32:11.933662Z"
    }
   },
   "outputs": [
    {
     "name": "stdout",
     "output_type": "stream",
     "text": [
      "Weather is good\n"
     ]
    }
   ],
   "source": [
    "summer = True\n",
    "if summer is True:\n",
    "    print(\"Weather is good\")\n",
    "else:\n",
    "    print(\"Weather is not good\")"
   ]
  },
  {
   "cell_type": "code",
   "execution_count": 2,
   "outputs": [
    {
     "name": "stdout",
     "output_type": "stream",
     "text": [
      "Weather is good\n"
     ]
    }
   ],
   "source": [
    "summer = True\n",
    "if summer:\n",
    "    print(\"Weather is good\")\n",
    "else:\n",
    "    print(\"Weather is not good\")"
   ],
   "metadata": {
    "collapsed": false,
    "ExecuteTime": {
     "end_time": "2025-01-22T15:32:34.290937Z",
     "start_time": "2025-01-22T15:32:34.279889Z"
    }
   },
   "id": "4c29c16f5afc693f"
  },
  {
   "cell_type": "code",
   "execution_count": null,
   "outputs": [],
   "source": [
    "summer = True\n",
    "if True:\n",
    "    print(\"Weather is good\")\n",
    "else:\n",
    "    print(\"Weather is not good\")"
   ],
   "metadata": {
    "collapsed": false
   },
   "id": "d2422f0acd9c23b9"
  },
  {
   "cell_type": "code",
   "execution_count": 5,
   "outputs": [
    {
     "name": "stdout",
     "output_type": "stream",
     "text": [
      "...\n"
     ]
    }
   ],
   "source": [
    "a = [1]\n",
    "#если a отсутствующие значение то False\n",
    "if a:\n",
    "    print('...')"
   ],
   "metadata": {
    "collapsed": false,
    "ExecuteTime": {
     "end_time": "2025-01-22T15:36:09.500949Z",
     "start_time": "2025-01-22T15:36:09.494036Z"
    }
   },
   "id": "4426207034aee24a"
  },
  {
   "cell_type": "markdown",
   "source": [
    "In-built functions - встроенные функции"
   ],
   "metadata": {
    "collapsed": false
   },
   "id": "acbbb83fb77c6707"
  },
  {
   "cell_type": "code",
   "execution_count": 19,
   "outputs": [
    {
     "name": "stdout",
     "output_type": "stream",
     "text": [
      "89\n",
      "1\n",
      "257\n",
      "0.333\n",
      "1\n",
      "[1, 23, 32, 45, 67, 89]\n",
      "[89, 67, 45, 32, 23, 1]\n",
      "[1, 45, 23, 67, 32, 89]\n",
      "[89, 67, 45, 32, 23, 1]\n"
     ]
    }
   ],
   "source": [
    "numbers = [1, 45, 23, 67, 32, 89]\n",
    "print(max(numbers)) #максимальное значение\n",
    "\n",
    "# max_num = numbers[0]  \n",
    "# for x in numbers:\n",
    "#     if x > max_num:\n",
    "#         max_num = x\n",
    "# print(max_num)\n",
    "print(min(numbers))\n",
    "print(sum(numbers))\n",
    "\n",
    "a = 1 / 3\n",
    "print(round(a, 3))\n",
    "print(abs(1))\n",
    "\n",
    "print(sorted(numbers))\n",
    "print(sorted(numbers, reverse=True))\n",
    "print(numbers)\n",
    "numbers.sort(reverse=True)\n",
    "print(numbers)"
   ],
   "metadata": {
    "collapsed": false,
    "ExecuteTime": {
     "end_time": "2025-01-22T15:54:37.987220Z",
     "start_time": "2025-01-22T15:54:37.982691Z"
    }
   },
   "id": "daddddf029298799"
  },
  {
   "cell_type": "markdown",
   "source": [
    "Map\n",
    "Применение операции к каждому элементу"
   ],
   "metadata": {
    "collapsed": false
   },
   "id": "d16281bc7a3b1df2"
  },
  {
   "cell_type": "code",
   "execution_count": 20,
   "outputs": [
    {
     "name": "stdout",
     "output_type": "stream",
     "text": [
      "[2, 4, 6, 8, 10]\n"
     ]
    }
   ],
   "source": [
    "my_list = [1, 2, 3, 4, 5]\n",
    "new_list = []\n",
    "for x in my_list:\n",
    "    new_list.append(x * 2)\n",
    "print(new_list)"
   ],
   "metadata": {
    "collapsed": false,
    "ExecuteTime": {
     "end_time": "2025-01-22T15:58:39.411484Z",
     "start_time": "2025-01-22T15:58:39.404223Z"
    }
   },
   "id": "16f4c9193184bec2"
  },
  {
   "cell_type": "code",
   "execution_count": 22,
   "outputs": [
    {
     "name": "stdout",
     "output_type": "stream",
     "text": [
      "[2, 4, 6, 8, 10]\n"
     ]
    }
   ],
   "source": [
    "my_list = [1, 2, 3, 4, 5]\n",
    "def mult_by_2(x):\n",
    "    return x * 2\n",
    "new_list = map(mult_by_2, my_list)\n",
    "print(list(new_list))"
   ],
   "metadata": {
    "collapsed": false,
    "ExecuteTime": {
     "end_time": "2025-01-22T16:01:13.824263Z",
     "start_time": "2025-01-22T16:01:13.818888Z"
    }
   },
   "id": "eaefd8d924f2d85d"
  },
  {
   "cell_type": "code",
   "execution_count": 24,
   "outputs": [
    {
     "name": "stdout",
     "output_type": "stream",
     "text": [
      "[2, 4, 6, 8, 10]\n"
     ]
    }
   ],
   "source": [
    "my_list = [1, 2, 3, 4, 5]\n",
    "\n",
    "\n",
    "new_list = map(lambda x: x * 2, my_list)\n",
    "print(list(new_list))"
   ],
   "metadata": {
    "collapsed": false,
    "ExecuteTime": {
     "end_time": "2025-01-22T16:15:16.521131Z",
     "start_time": "2025-01-22T16:15:16.516568Z"
    }
   },
   "id": "f8e05e2a66e69b2f"
  },
  {
   "cell_type": "code",
   "execution_count": 23,
   "outputs": [
    {
     "ename": "ValueError",
     "evalue": "not enough values to unpack (expected 2, got 1)",
     "output_type": "error",
     "traceback": [
      "\u001B[0;31m---------------------------------------------------------------------------\u001B[0m",
      "\u001B[0;31mValueError\u001B[0m                                Traceback (most recent call last)",
      "Cell \u001B[0;32mIn[23], line 1\u001B[0m\n\u001B[0;32m----> 1\u001B[0m name, surname \u001B[38;5;241m=\u001B[39m \u001B[38;5;28minput\u001B[39m(\u001B[38;5;124m'\u001B[39m\u001B[38;5;124mYour name and surname\u001B[39m\u001B[38;5;124m'\u001B[39m)\u001B[38;5;241m.\u001B[39msplit()\n\u001B[1;32m      2\u001B[0m \u001B[38;5;28mprint\u001B[39m(\u001B[38;5;124mf\u001B[39m\u001B[38;5;124m'\u001B[39m\u001B[38;5;124mname is \u001B[39m\u001B[38;5;132;01m{\u001B[39;00mname\u001B[38;5;132;01m}\u001B[39;00m\u001B[38;5;124m, surname is \u001B[39m\u001B[38;5;132;01m{\u001B[39;00msurname\u001B[38;5;132;01m}\u001B[39;00m\u001B[38;5;124m'\u001B[39m)\n",
      "\u001B[0;31mValueError\u001B[0m: not enough values to unpack (expected 2, got 1)"
     ]
    }
   ],
   "source": [
    "name, surname = input('Your name and surname').split()\n",
    "print(f'name is {name}, surname is {surname}')"
   ],
   "metadata": {
    "collapsed": false,
    "ExecuteTime": {
     "end_time": "2025-01-22T16:12:31.311864Z",
     "start_time": "2025-01-22T16:12:21.533697Z"
    }
   },
   "id": "1d8610366e6c1e91"
  },
  {
   "cell_type": "markdown",
   "source": [
    "Тернарный оператор"
   ],
   "metadata": {
    "collapsed": false
   },
   "id": "43757baa5841e5b7"
  },
  {
   "cell_type": "code",
   "execution_count": 25,
   "outputs": [
    {
     "name": "stdout",
     "output_type": "stream",
     "text": [
      "[2, 4, 6, 8, 10]\n"
     ]
    }
   ],
   "source": [
    "\n",
    "my_list = [1, 2, 3, 4, 5]\n",
    "\n",
    "def mult_by_2(x):\n",
    "    if x > 10:\n",
    "        return x * 5\n",
    "    else:\n",
    "        return x * 2\n",
    "\n",
    "new_list = map(lambda x: x * 5 if x > 10 else x * 2, my_list)\n",
    "print(list(new_list))"
   ],
   "metadata": {
    "collapsed": false,
    "ExecuteTime": {
     "end_time": "2025-01-22T16:20:28.185577Z",
     "start_time": "2025-01-22T16:20:28.155918Z"
    }
   },
   "id": "b122a123a601f46f"
  },
  {
   "cell_type": "code",
   "execution_count": 26,
   "outputs": [
    {
     "name": "stdout",
     "output_type": "stream",
     "text": [
      "5\n"
     ]
    }
   ],
   "source": [
    "my_list = [1, 2, 3, 4]\n",
    "b = 1 if len(my_list) > 4 else 5\n",
    "\n",
    "print(b)"
   ],
   "metadata": {
    "collapsed": false,
    "ExecuteTime": {
     "end_time": "2025-01-22T16:23:05.896697Z",
     "start_time": "2025-01-22T16:23:05.892039Z"
    }
   },
   "id": "f46fd016764ea62c"
  },
  {
   "cell_type": "markdown",
   "source": [
    "Filter"
   ],
   "metadata": {
    "collapsed": false
   },
   "id": "6d7b8c2f817aecc5"
  },
  {
   "cell_type": "code",
   "execution_count": 28,
   "outputs": [
    {
     "name": "stdout",
     "output_type": "stream",
     "text": [
      "[2, 4, 6, 8]\n"
     ]
    }
   ],
   "source": [
    "my_list2 = [1, 2, 3, 4, 5, 6, 7, 8]\n",
    "new_list2 = []\n",
    "for x in my_list2:\n",
    "    if x % 2 == 0:\n",
    "        new_list2.append(x)\n",
    "print(new_list2)"
   ],
   "metadata": {
    "collapsed": false,
    "ExecuteTime": {
     "end_time": "2025-01-22T16:25:25.464Z",
     "start_time": "2025-01-22T16:25:25.457152Z"
    }
   },
   "id": "c7c6b89454600b4a"
  },
  {
   "cell_type": "code",
   "execution_count": 29,
   "outputs": [
    {
     "name": "stdout",
     "output_type": "stream",
     "text": [
      "[2, 4, 6, 8]\n"
     ]
    }
   ],
   "source": [
    "my_list2 = [1, 2, 3, 4, 5, 6, 7, 8]\n",
    "def is_even(x):\n",
    "    if x % 2 == 0:\n",
    "        return True\n",
    "    else:\n",
    "        return False\n",
    "new_list2 = filter(is_even, my_list2)\n",
    "print(list(new_list2))"
   ],
   "metadata": {
    "collapsed": false,
    "ExecuteTime": {
     "end_time": "2025-01-22T16:28:05.479260Z",
     "start_time": "2025-01-22T16:28:05.464312Z"
    }
   },
   "id": "ece1d08684a8b150"
  },
  {
   "cell_type": "code",
   "execution_count": 31,
   "outputs": [
    {
     "name": "stdout",
     "output_type": "stream",
     "text": [
      "[2, 4, 6, 8]\n"
     ]
    }
   ],
   "source": [
    "my_list2 = [1, 2, 3, 4, 5, 6, 7, 8]\n",
    "def is_even(x):\n",
    "    return x % 2 == 0\n",
    "\n",
    "new_list2 = filter(is_even, my_list2)\n",
    "print(list(new_list2))"
   ],
   "metadata": {
    "collapsed": false,
    "ExecuteTime": {
     "end_time": "2025-01-22T16:32:52.198433Z",
     "start_time": "2025-01-22T16:32:52.192860Z"
    }
   },
   "id": "1339cc7035d73956"
  },
  {
   "cell_type": "code",
   "execution_count": 32,
   "outputs": [
    {
     "name": "stdout",
     "output_type": "stream",
     "text": [
      "[2, 4, 6, 8]\n"
     ]
    }
   ],
   "source": [
    "my_list2 = [1, 2, 3, 4, 5, 6, 7, 8]\n",
    "\n",
    "\n",
    "new_list2 = filter(lambda x: x % 2 == 0, my_list2)\n",
    "print(list(new_list2))"
   ],
   "metadata": {
    "collapsed": false,
    "ExecuteTime": {
     "end_time": "2025-01-22T16:33:57.031842Z",
     "start_time": "2025-01-22T16:33:57.016699Z"
    }
   },
   "id": "470541713b0ca24a"
  },
  {
   "cell_type": "markdown",
   "source": [
    "Datetime"
   ],
   "metadata": {
    "collapsed": false
   },
   "id": "d4bec1f0de7b9b8c"
  },
  {
   "cell_type": "code",
   "execution_count": 38,
   "outputs": [
    {
     "name": "stdout",
     "output_type": "stream",
     "text": [
      "2025-01-22 19:39:39.923028\n",
      "19\n",
      "2025\n",
      "2\n",
      "3\n",
      "1737563979.923028\n"
     ]
    }
   ],
   "source": [
    "import datetime\n",
    "\n",
    "time_now = datetime.datetime.now()\n",
    "print(time_now)\n",
    "print(time_now.hour)\n",
    "print(time_now.year)\n",
    "print(time_now.weekday())\n",
    "print(time_now.isoweekday())\n",
    "print(time_now.timestamp())"
   ],
   "metadata": {
    "collapsed": false,
    "ExecuteTime": {
     "end_time": "2025-01-22T16:39:39.934394Z",
     "start_time": "2025-01-22T16:39:39.927830Z"
    }
   },
   "id": "74b0a82bab389853"
  },
  {
   "cell_type": "code",
   "execution_count": 39,
   "outputs": [
    {
     "name": "stdout",
     "output_type": "stream",
     "text": [
      "1960-01-15 00:00:00\n",
      "-314416800.0\n"
     ]
    }
   ],
   "source": [
    "easy_day = datetime.datetime(1960, 1, 15)\n",
    "print(easy_day)\n",
    "print(easy_day.timestamp())"
   ],
   "metadata": {
    "collapsed": false,
    "ExecuteTime": {
     "end_time": "2025-01-22T16:41:07.320685Z",
     "start_time": "2025-01-22T16:41:07.302759Z"
    }
   },
   "id": "9f0c7843603696c1"
  },
  {
   "cell_type": "markdown",
   "source": [
    "https://docs.python.org/3/library/datetime.html#strftime-and-strptime-format-codes"
   ],
   "metadata": {
    "collapsed": false
   },
   "id": "2678511516ee8c20"
  },
  {
   "cell_type": "code",
   "execution_count": 41,
   "outputs": [
    {
     "name": "stdout",
     "output_type": "stream",
     "text": [
      "2023-06-05 12:30:10\n",
      "6\n"
     ]
    }
   ],
   "source": [
    "my_time = '2023/06/05 12 hours, 30 mins, 10 secs'\n",
    "\n",
    "python_date = datetime.datetime.strptime(my_time, '%Y/%m/%d %H hours, %M mins, %S secs')\n",
    "print(python_date)\n",
    "print(python_date.month)"
   ],
   "metadata": {
    "collapsed": false,
    "ExecuteTime": {
     "end_time": "2025-01-22T16:46:52.675653Z",
     "start_time": "2025-01-22T16:46:52.665904Z"
    }
   },
   "id": "c3e8a69423d76a9f"
  },
  {
   "cell_type": "code",
   "execution_count": 42,
   "outputs": [
    {
     "name": "stdout",
     "output_type": "stream",
     "text": [
      "Year: 23, month: June, day: 05\n"
     ]
    }
   ],
   "source": [
    "human_date = python_date.strftime('Year: %y, month: %B, day: %d')\n",
    "print(human_date)"
   ],
   "metadata": {
    "collapsed": false,
    "ExecuteTime": {
     "end_time": "2025-01-22T16:47:24.802685Z",
     "start_time": "2025-01-22T16:47:24.782129Z"
    }
   },
   "id": "511ad426469388a"
  },
  {
   "cell_type": "code",
   "execution_count": null,
   "outputs": [],
   "source": [],
   "metadata": {
    "collapsed": false
   },
   "id": "7b0e0b0cb4a48142"
  }
 ],
 "metadata": {
  "kernelspec": {
   "display_name": "Python 3",
   "language": "python",
   "name": "python3"
  },
  "language_info": {
   "codemirror_mode": {
    "name": "ipython",
    "version": 2
   },
   "file_extension": ".py",
   "mimetype": "text/x-python",
   "name": "python",
   "nbconvert_exporter": "python",
   "pygments_lexer": "ipython2",
   "version": "2.7.6"
  }
 },
 "nbformat": 4,
 "nbformat_minor": 5
}
