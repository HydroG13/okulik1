{
 "cells": [
  {
   "cell_type": "markdown",
   "source": [
    "Python\n",
    "Идентификаторы\n",
    "Идентификаторы в Python это имена используемые для обозначения переменной, функции, класса, модуля или другого объекта.\n",
    "\n",
    "Правила для написания идентификаторов: Идентификаторы могут быть комбинацией букв в нижнем регистре (a - z) или верхнего регистра (A - Z) или цифр (0 - 9) или подчеркивание _. Например: myClass, var_1 и print_this_to_screen. Идентификатор не может начинаться с цифры. 1variable неправильно, но variable1 правильно. Ключевые слова не могут использоваться как идентификаторы. Нельзя использовать специальные символы !, @, #, $, %. Идентификаторы могут быть любой длины. \n",
    "\n",
    "Зарезервированные слова\n",
    "\n",
    "Мы не можем использовать ключевые слова как имена переменных, имена функций или какой-нибудь любой другой идентификатор.\n",
    "\n",
    "Они используются, для определения синтаксиса и структуры в языке Python. Ключевые слова регистрозависимые.\n",
    "\n",
    "Все слова за исключением True, False и None в маленьком регистре. "
   ],
   "metadata": {
    "collapsed": false
   },
   "id": "98b3a0b5cd9a202"
  },
  {
   "cell_type": "code",
   "execution_count": 2,
   "outputs": [
    {
     "name": "stdout",
     "output_type": "stream",
     "text": [
      "42\n",
      "42.5\n",
      "text\n",
      "True\n",
      "False\n"
     ]
    }
   ],
   "source": [
    "print(42)\n",
    "print(42.5)\n",
    "print('text')\n",
    "print(True)\n",
    "print(False)"
   ],
   "metadata": {
    "collapsed": false,
    "ExecuteTime": {
     "end_time": "2025-01-14T17:23:04.021975Z",
     "start_time": "2025-01-14T17:23:04.009832Z"
    }
   },
   "id": "b90476c48f8b843d"
  },
  {
   "cell_type": "code",
   "execution_count": null,
   "outputs": [],
   "source": [],
   "metadata": {
    "collapsed": false
   },
   "id": "913c394afeb70030"
  }
 ],
 "metadata": {
  "kernelspec": {
   "display_name": "Python 3",
   "language": "python",
   "name": "python3"
  },
  "language_info": {
   "codemirror_mode": {
    "name": "ipython",
    "version": 2
   },
   "file_extension": ".py",
   "mimetype": "text/x-python",
   "name": "python",
   "nbconvert_exporter": "python",
   "pygments_lexer": "ipython2",
   "version": "2.7.6"
  }
 },
 "nbformat": 4,
 "nbformat_minor": 5
}
